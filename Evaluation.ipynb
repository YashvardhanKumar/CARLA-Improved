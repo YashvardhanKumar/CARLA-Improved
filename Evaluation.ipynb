{
 "cells": [
  {
   "cell_type": "code",
   "execution_count": 1,
   "id": "f82ba5b3",
   "metadata": {
    "scrolled": true
   },
   "outputs": [],
   "source": [
    "import numpy as np\n",
    "import pandas as pd\n",
    "import os\n",
    "from sklearn import metrics\n",
    "from sklearn.metrics import roc_auc_score, average_precision_score, confusion_matrix, roc_curve, precision_recall_curve\n",
    "import warnings\n",
    "warnings.filterwarnings(\"ignore\", category=RuntimeWarning)"
   ]
  },
  {
   "cell_type": "code",
   "execution_count": null,
   "id": "c8068d88",
   "metadata": {},
   "outputs": [
    {
     "name": "stdout",
     "output_type": "stream",
     "text": [
      "M-6\n",
      "\u001b[33mCARLA Pretext stage --> \u001b[0m\n",
      "ContrastiveModel(\n",
      "  (backbone): ResNetRepresentation(\n",
      "    (layers): Sequential(\n",
      "      (0): ResNetBlock(\n",
      "        (layers): Sequential(\n",
      "          (0): ConvBlock(\n",
      "            (layers): Sequential(\n",
      "              (0): Conv1dSamePadding(55, 2, kernel_size=(8,), stride=(1,))\n",
      "              (1): BatchNorm1d(2, eps=1e-05, momentum=0.1, affine=True, track_running_stats=True)\n",
      "              (2): GELU(approximate='none')\n",
      "            )\n",
      "          )\n",
      "          (1): ConvBlock(\n",
      "            (layers): Sequential(\n",
      "              (0): Conv1dSamePadding(2, 2, kernel_size=(5,), stride=(1,))\n",
      "              (1): BatchNorm1d(2, eps=1e-05, momentum=0.1, affine=True, track_running_stats=True)\n",
      "              (2): GELU(approximate='none')\n",
      "            )\n",
      "          )\n",
      "          (2): ConvBlock(\n",
      "            (layers): Sequential(\n",
      "              (0): Conv1dSamePadding(2, 4, kernel_size=(3,), stride=(1,))\n",
      "              (1): BatchNorm1d(4, eps=1e-05, momentum=0.1, affine=True, track_running_stats=True)\n",
      "              (2): GELU(approximate='none')\n",
      "            )\n",
      "          )\n",
      "        )\n",
      "        (residual): Sequential(\n",
      "          (0): Conv1dSamePadding(55, 4, kernel_size=(1,), stride=(1,))\n",
      "          (1): BatchNorm1d(4, eps=1e-05, momentum=0.1, affine=True, track_running_stats=True)\n",
      "        )\n",
      "      )\n",
      "      (1): ResNetBlock(\n",
      "        (layers): Sequential(\n",
      "          (0): ConvBlock(\n",
      "            (layers): Sequential(\n",
      "              (0): Conv1dSamePadding(4, 2, kernel_size=(8,), stride=(1,))\n",
      "              (1): BatchNorm1d(2, eps=1e-05, momentum=0.1, affine=True, track_running_stats=True)\n",
      "              (2): GELU(approximate='none')\n",
      "            )\n",
      "          )\n",
      "          (1): ConvBlock(\n",
      "            (layers): Sequential(\n",
      "              (0): Conv1dSamePadding(2, 2, kernel_size=(5,), stride=(1,))\n",
      "              (1): BatchNorm1d(2, eps=1e-05, momentum=0.1, affine=True, track_running_stats=True)\n",
      "              (2): GELU(approximate='none')\n",
      "            )\n",
      "          )\n",
      "          (2): ConvBlock(\n",
      "            (layers): Sequential(\n",
      "              (0): Conv1dSamePadding(2, 8, kernel_size=(3,), stride=(1,))\n",
      "              (1): BatchNorm1d(8, eps=1e-05, momentum=0.1, affine=True, track_running_stats=True)\n",
      "              (2): GELU(approximate='none')\n",
      "            )\n",
      "          )\n",
      "        )\n",
      "        (residual): Sequential(\n",
      "          (0): Conv1dSamePadding(4, 8, kernel_size=(1,), stride=(1,))\n",
      "          (1): BatchNorm1d(8, eps=1e-05, momentum=0.1, affine=True, track_running_stats=True)\n",
      "        )\n",
      "      )\n",
      "      (2): ResNetBlock(\n",
      "        (layers): Sequential(\n",
      "          (0): ConvBlock(\n",
      "            (layers): Sequential(\n",
      "              (0): Conv1dSamePadding(8, 2, kernel_size=(8,), stride=(1,))\n",
      "              (1): BatchNorm1d(2, eps=1e-05, momentum=0.1, affine=True, track_running_stats=True)\n",
      "              (2): GELU(approximate='none')\n",
      "            )\n",
      "          )\n",
      "          (1): ConvBlock(\n",
      "            (layers): Sequential(\n",
      "              (0): Conv1dSamePadding(2, 2, kernel_size=(5,), stride=(1,))\n",
      "              (1): BatchNorm1d(2, eps=1e-05, momentum=0.1, affine=True, track_running_stats=True)\n",
      "              (2): GELU(approximate='none')\n",
      "            )\n",
      "          )\n",
      "          (2): ConvBlock(\n",
      "            (layers): Sequential(\n",
      "              (0): Conv1dSamePadding(2, 8, kernel_size=(3,), stride=(1,))\n",
      "              (1): BatchNorm1d(8, eps=1e-05, momentum=0.1, affine=True, track_running_stats=True)\n",
      "              (2): GELU(approximate='none')\n",
      "            )\n",
      "          )\n",
      "        )\n",
      "      )\n",
      "    )\n",
      "  )\n",
      "  (contrastive_head): Sequential(\n",
      "    (0): Linear(in_features=8, out_features=8, bias=True)\n",
      "    (1): ReLU()\n",
      "    (2): Linear(in_features=8, out_features=4, bias=True)\n",
      "  )\n",
      ")\n",
      "Dataset contains 1365/1849 train/val samples\n",
      "\u001b[34mNo checkpoint file at results/MSL/M-6/pretext/checkpoint.pth.tar\u001b[0m\n",
      "\u001b[33mEpoch 1/30\u001b[0m\n",
      "\u001b[33m---------------\u001b[0m\n",
      "Adjusted learning rate to 0.00100\n",
      "Epoch: [1][ 0/13]\tLoss 1.0056e+00 (1.0056e+00)\n",
      "\u001b[33mEpoch 2/30\u001b[0m\n",
      "\u001b[33m---------------\u001b[0m\n",
      "Adjusted learning rate to 0.00100\n",
      "Epoch: [2][ 0/13]\tLoss 1.0032e+00 (1.0032e+00)\n",
      "\u001b[33mEpoch 3/30\u001b[0m\n",
      "\u001b[33m---------------\u001b[0m\n",
      "Adjusted learning rate to 0.00099\n",
      "Epoch: [3][ 0/13]\tLoss 1.0010e+00 (1.0010e+00)\n",
      "\u001b[33mEpoch 4/30\u001b[0m\n",
      "\u001b[33m---------------\u001b[0m\n",
      "Adjusted learning rate to 0.00098\n",
      "Epoch: [4][ 0/13]\tLoss 1.0004e+00 (1.0004e+00)\n",
      "\u001b[33mEpoch 5/30\u001b[0m\n",
      "\u001b[33m---------------\u001b[0m\n",
      "Adjusted learning rate to 0.00096\n",
      "Epoch: [5][ 0/13]\tLoss 1.0020e+00 (1.0020e+00)\n",
      "\u001b[33mEpoch 6/30\u001b[0m\n",
      "\u001b[33m---------------\u001b[0m\n",
      "Adjusted learning rate to 0.00093\n",
      "Epoch: [6][ 0/13]\tLoss 1.0006e+00 (1.0006e+00)\n",
      "\u001b[33mEpoch 7/30\u001b[0m\n",
      "\u001b[33m---------------\u001b[0m\n",
      "Adjusted learning rate to 0.00090\n",
      "Epoch: [7][ 0/13]\tLoss 1.0007e+00 (1.0007e+00)\n",
      "\u001b[33mEpoch 8/30\u001b[0m\n",
      "\u001b[33m---------------\u001b[0m\n",
      "Adjusted learning rate to 0.00087\n",
      "Epoch: [8][ 0/13]\tLoss 1.0012e+00 (1.0012e+00)\n",
      "\u001b[33mEpoch 9/30\u001b[0m\n",
      "\u001b[33m---------------\u001b[0m\n",
      "Adjusted learning rate to 0.00083\n",
      "Epoch: [9][ 0/13]\tLoss 1.0003e+00 (1.0003e+00)\n",
      "\u001b[33mEpoch 10/30\u001b[0m\n",
      "\u001b[33m---------------\u001b[0m\n",
      "Adjusted learning rate to 0.00079\n",
      "Epoch: [10][ 0/13]\tLoss 1.0002e+00 (1.0002e+00)\n",
      "\u001b[33mEpoch 11/30\u001b[0m\n",
      "\u001b[33m---------------\u001b[0m\n",
      "Adjusted learning rate to 0.00075\n",
      "Epoch: [11][ 0/13]\tLoss 1.0007e+00 (1.0007e+00)\n",
      "\u001b[33mEpoch 12/30\u001b[0m\n",
      "\u001b[33m---------------\u001b[0m\n",
      "Adjusted learning rate to 0.00070\n",
      "Epoch: [12][ 0/13]\tLoss 1.0004e+00 (1.0004e+00)\n",
      "\u001b[33mEpoch 13/30\u001b[0m\n",
      "\u001b[33m---------------\u001b[0m\n",
      "Adjusted learning rate to 0.00065\n",
      "Epoch: [13][ 0/13]\tLoss 1.0002e+00 (1.0002e+00)\n",
      "\u001b[33mEpoch 14/30\u001b[0m\n",
      "\u001b[33m---------------\u001b[0m\n",
      "Adjusted learning rate to 0.00060\n",
      "Epoch: [14][ 0/13]\tLoss 1.0006e+00 (1.0006e+00)\n",
      "\u001b[33mEpoch 15/30\u001b[0m\n",
      "\u001b[33m---------------\u001b[0m\n",
      "Adjusted learning rate to 0.00055\n",
      "Epoch: [15][ 0/13]\tLoss 1.0001e+00 (1.0001e+00)\n",
      "\u001b[33mEpoch 16/30\u001b[0m\n",
      "\u001b[33m---------------\u001b[0m\n",
      "Adjusted learning rate to 0.00050\n",
      "Epoch: [16][ 0/13]\tLoss 1.0003e+00 (1.0003e+00)\n",
      "\u001b[33mEpoch 17/30\u001b[0m\n",
      "\u001b[33m---------------\u001b[0m\n",
      "Adjusted learning rate to 0.00045\n",
      "Epoch: [17][ 0/13]\tLoss 1.0002e+00 (1.0002e+00)\n",
      "\u001b[33mEpoch 18/30\u001b[0m\n",
      "\u001b[33m---------------\u001b[0m\n",
      "Adjusted learning rate to 0.00040\n",
      "Epoch: [18][ 0/13]\tLoss 1.0008e+00 (1.0008e+00)\n",
      "\u001b[33mEpoch 19/30\u001b[0m\n",
      "\u001b[33m---------------\u001b[0m\n",
      "Adjusted learning rate to 0.00035\n",
      "Epoch: [19][ 0/13]\tLoss 1.0001e+00 (1.0001e+00)\n",
      "\u001b[33mEpoch 20/30\u001b[0m\n",
      "\u001b[33m---------------\u001b[0m\n",
      "Adjusted learning rate to 0.00030\n",
      "Epoch: [20][ 0/13]\tLoss 1.0001e+00 (1.0001e+00)\n",
      "\u001b[33mEpoch 21/30\u001b[0m\n",
      "\u001b[33m---------------\u001b[0m\n",
      "Adjusted learning rate to 0.00025\n",
      "Epoch: [21][ 0/13]\tLoss 1.0002e+00 (1.0002e+00)\n",
      "\u001b[33mEpoch 22/30\u001b[0m\n",
      "\u001b[33m---------------\u001b[0m\n",
      "Adjusted learning rate to 0.00021\n",
      "Epoch: [22][ 0/13]\tLoss 1.0002e+00 (1.0002e+00)\n",
      "\u001b[33mEpoch 23/30\u001b[0m\n",
      "\u001b[33m---------------\u001b[0m\n",
      "Adjusted learning rate to 0.00017\n",
      "Epoch: [23][ 0/13]\tLoss 1.0002e+00 (1.0002e+00)\n",
      "\u001b[33mEpoch 24/30\u001b[0m\n",
      "\u001b[33m---------------\u001b[0m\n",
      "Adjusted learning rate to 0.00013\n",
      "Epoch: [24][ 0/13]\tLoss 1.0001e+00 (1.0001e+00)\n",
      "\u001b[33mEpoch 25/30\u001b[0m\n",
      "\u001b[33m---------------\u001b[0m\n",
      "Adjusted learning rate to 0.00010\n",
      "Epoch: [25][ 0/13]\tLoss 1.0002e+00 (1.0002e+00)\n",
      "\u001b[33mEpoch 26/30\u001b[0m\n",
      "\u001b[33m---------------\u001b[0m\n",
      "Adjusted learning rate to 0.00007\n",
      "Epoch: [26][ 0/13]\tLoss 1.0002e+00 (1.0002e+00)\n",
      "\u001b[33mEpoch 27/30\u001b[0m\n",
      "\u001b[33m---------------\u001b[0m\n",
      "Adjusted learning rate to 0.00004\n",
      "Epoch: [27][ 0/13]\tLoss 1.0003e+00 (1.0003e+00)\n",
      "\u001b[33mEpoch 28/30\u001b[0m\n",
      "\u001b[33m---------------\u001b[0m\n",
      "Adjusted learning rate to 0.00002\n",
      "Epoch: [28][ 0/13]\tLoss 1.0002e+00 (1.0002e+00)\n",
      "\u001b[33mEpoch 29/30\u001b[0m\n",
      "\u001b[33m---------------\u001b[0m\n",
      "Adjusted learning rate to 0.00001\n",
      "Epoch: [29][ 0/13]\tLoss 1.0002e+00 (1.0002e+00)\n",
      "\u001b[33mEpoch 30/30\u001b[0m\n",
      "\u001b[33m---------------\u001b[0m\n",
      "Adjusted learning rate to 0.00000\n",
      "Epoch: [30][ 0/13]\tLoss 1.0003e+00 (1.0003e+00)\n",
      "\u001b[34mFill TS Repository for mining the nearest/furthest neighbors (train) ...\u001b[0m\n",
      "Fill TS Repository [0/14]\n",
      "Mine the nearest neighbors (Top-10)\n",
      "\u001b[34mFill TS Repository for mining the nearest/furthest neighbors (val) ...\u001b[0m\n",
      "Fill TS Repository [0/19]\n",
      "Mine the nearest and furthest neighbors (Top-10)\n",
      "\u001b[33mCARLA Self-supervised Classification stage --> \u001b[0m\n",
      "\u001b[32m\n",
      "- Get dataset and dataloaders for MSL dataset - timeseries M-6\u001b[0m\n",
      "\u001b[32m-- Train samples size: 2730 - Test samples size: 1849\u001b[0m\n",
      "\u001b[32m\n",
      "- Model initialisation\u001b[0m\n",
      "\u001b[32m-- No checkpoint file at results/MSL/M-6/classification/checkpoint.pth.tar -- new model initialised\u001b[0m\n",
      "\u001b[34m\n",
      "- Training:\u001b[0m\n",
      "\u001b[34m-- Epoch 1/50\u001b[0m\n",
      "Epoch: [1][ 0/27]\tTotal Loss -2.2939e+00 (-2.2939e+00)\tConsistency Loss 2.2878e+00 (2.2878e+00)\tInconsistency Loss 1.0788e-01 (1.0788e-01)\tEntropy 2.2909e+00 (2.2909e+00)\n",
      "\u001b[34m-- Epoch 2/50\u001b[0m\n",
      "Epoch: [2][ 0/27]\tTotal Loss -2.3745e+00 (-2.3745e+00)\tConsistency Loss 1.7265e+00 (1.7265e+00)\tInconsistency Loss 1.9589e-01 (1.9589e-01)\tEntropy 2.0505e+00 (2.0505e+00)\n",
      "\u001b[34m-- Epoch 3/50\u001b[0m\n",
      "Epoch: [3][ 0/27]\tTotal Loss -2.3516e+00 (-2.3516e+00)\tConsistency Loss 1.7115e+00 (1.7115e+00)\tInconsistency Loss 2.0170e-01 (2.0170e-01)\tEntropy 2.0316e+00 (2.0316e+00)\n",
      "f1: Nan --> 0\n",
      "\u001b[34m-- Epoch 4/50\u001b[0m\n",
      "Epoch: [4][ 0/27]\tTotal Loss -2.3867e+00 (-2.3867e+00)\tConsistency Loss 1.7206e+00 (1.7206e+00)\tInconsistency Loss 1.9570e-01 (1.9570e-01)\tEntropy 2.0536e+00 (2.0536e+00)\n",
      "f1: Nan --> 0\n",
      "\u001b[34m-- Epoch 5/50\u001b[0m\n",
      "Epoch: [5][ 0/27]\tTotal Loss -2.3813e+00 (-2.3813e+00)\tConsistency Loss 1.7146e+00 (1.7146e+00)\tInconsistency Loss 1.9812e-01 (1.9812e-01)\tEntropy 2.0480e+00 (2.0480e+00)\n",
      "\u001b[34m-- Epoch 6/50\u001b[0m\n",
      "Epoch: [6][ 0/27]\tTotal Loss -2.3755e+00 (-2.3755e+00)\tConsistency Loss 1.7202e+00 (1.7202e+00)\tInconsistency Loss 1.9730e-01 (1.9730e-01)\tEntropy 2.0478e+00 (2.0478e+00)\n",
      "\u001b[34m-- Epoch 7/50\u001b[0m\n",
      "Epoch: [7][ 0/27]\tTotal Loss -2.3778e+00 (-2.3778e+00)\tConsistency Loss 1.7207e+00 (1.7207e+00)\tInconsistency Loss 1.9707e-01 (1.9707e-01)\tEntropy 2.0493e+00 (2.0493e+00)\n",
      "\u001b[34m-- Epoch 8/50\u001b[0m\n",
      "Epoch: [8][ 0/27]\tTotal Loss -2.3765e+00 (-2.3765e+00)\tConsistency Loss 1.7202e+00 (1.7202e+00)\tInconsistency Loss 1.9719e-01 (1.9719e-01)\tEntropy 2.0483e+00 (2.0483e+00)\n",
      "\u001b[34m-- Epoch 9/50\u001b[0m\n",
      "Epoch: [9][ 0/27]\tTotal Loss -2.3765e+00 (-2.3765e+00)\tConsistency Loss 1.7219e+00 (1.7219e+00)\tInconsistency Loss 1.9699e-01 (1.9699e-01)\tEntropy 2.0492e+00 (2.0492e+00)\n",
      "\u001b[34m-- Epoch 10/50\u001b[0m\n",
      "Epoch: [10][ 0/27]\tTotal Loss -2.3771e+00 (-2.3771e+00)\tConsistency Loss 1.7198e+00 (1.7198e+00)\tInconsistency Loss 1.9725e-01 (1.9725e-01)\tEntropy 2.0485e+00 (2.0485e+00)\n",
      "\u001b[34m-- Epoch 11/50\u001b[0m\n",
      "Epoch: [11][ 0/27]\tTotal Loss -2.3773e+00 (-2.3773e+00)\tConsistency Loss 1.7192e+00 (1.7192e+00)\tInconsistency Loss 1.9741e-01 (1.9741e-01)\tEntropy 2.0483e+00 (2.0483e+00)\n",
      "\u001b[34m-- Epoch 12/50\u001b[0m\n",
      "Epoch: [12][ 0/27]\tTotal Loss -2.3772e+00 (-2.3772e+00)\tConsistency Loss 1.7190e+00 (1.7190e+00)\tInconsistency Loss 1.9746e-01 (1.9746e-01)\tEntropy 2.0481e+00 (2.0481e+00)\n",
      "\u001b[34m-- Epoch 13/50\u001b[0m\n",
      "Epoch: [13][ 0/27]\tTotal Loss -2.3773e+00 (-2.3773e+00)\tConsistency Loss 1.7191e+00 (1.7191e+00)\tInconsistency Loss 1.9753e-01 (1.9753e-01)\tEntropy 2.0482e+00 (2.0482e+00)\n",
      "\u001b[34m-- Epoch 14/50\u001b[0m\n",
      "Epoch: [14][ 0/27]\tTotal Loss -2.3771e+00 (-2.3771e+00)\tConsistency Loss 1.7200e+00 (1.7200e+00)\tInconsistency Loss 1.9733e-01 (1.9733e-01)\tEntropy 2.0486e+00 (2.0486e+00)\n",
      "\u001b[34m-- Epoch 15/50\u001b[0m\n",
      "Epoch: [15][ 0/27]\tTotal Loss -2.3771e+00 (-2.3771e+00)\tConsistency Loss 1.7188e+00 (1.7188e+00)\tInconsistency Loss 1.9759e-01 (1.9759e-01)\tEntropy 2.0479e+00 (2.0479e+00)\n",
      "\u001b[34m-- Epoch 16/50\u001b[0m\n",
      "Epoch: [16][ 0/27]\tTotal Loss -2.3773e+00 (-2.3773e+00)\tConsistency Loss 1.7203e+00 (1.7203e+00)\tInconsistency Loss 1.9723e-01 (1.9723e-01)\tEntropy 2.0488e+00 (2.0488e+00)\n",
      "f1: Nan --> 0\n",
      "\u001b[34m-- Epoch 17/50\u001b[0m\n",
      "Epoch: [17][ 0/27]\tTotal Loss -2.3749e+00 (-2.3749e+00)\tConsistency Loss 1.7354e+00 (1.7354e+00)\tInconsistency Loss 1.9452e-01 (1.9452e-01)\tEntropy 2.0552e+00 (2.0552e+00)\n",
      "\u001b[34m-- Epoch 18/50\u001b[0m\n",
      "Epoch: [18][ 0/27]\tTotal Loss -2.3786e+00 (-2.3786e+00)\tConsistency Loss 1.7295e+00 (1.7295e+00)\tInconsistency Loss 1.9471e-01 (1.9471e-01)\tEntropy 2.0541e+00 (2.0541e+00)\n",
      "\u001b[34m-- Epoch 19/50\u001b[0m\n",
      "Epoch: [19][ 0/27]\tTotal Loss -2.3757e+00 (-2.3757e+00)\tConsistency Loss 1.7252e+00 (1.7252e+00)\tInconsistency Loss 1.9635e-01 (1.9635e-01)\tEntropy 2.0504e+00 (2.0504e+00)\n",
      "f1: Nan --> 0\n",
      "\u001b[34m-- Epoch 20/50\u001b[0m\n",
      "Epoch: [20][ 0/27]\tTotal Loss -2.3766e+00 (-2.3766e+00)\tConsistency Loss 1.7226e+00 (1.7226e+00)\tInconsistency Loss 1.9678e-01 (1.9678e-01)\tEntropy 2.0496e+00 (2.0496e+00)\n",
      "\u001b[34m-- Epoch 21/50\u001b[0m\n",
      "Epoch: [21][ 0/27]\tTotal Loss -2.3759e+00 (-2.3759e+00)\tConsistency Loss 1.7184e+00 (1.7184e+00)\tInconsistency Loss 1.9795e-01 (1.9795e-01)\tEntropy 2.0472e+00 (2.0472e+00)\n",
      "\u001b[34m-- Epoch 22/50\u001b[0m\n",
      "Epoch: [22][ 0/27]\tTotal Loss -2.3779e+00 (-2.3779e+00)\tConsistency Loss 1.7210e+00 (1.7210e+00)\tInconsistency Loss 1.9722e-01 (1.9722e-01)\tEntropy 2.0495e+00 (2.0495e+00)\n",
      "\u001b[34m-- Epoch 23/50\u001b[0m\n",
      "Epoch: [23][ 0/27]\tTotal Loss -2.3770e+00 (-2.3770e+00)\tConsistency Loss 1.7199e+00 (1.7199e+00)\tInconsistency Loss 1.9741e-01 (1.9741e-01)\tEntropy 2.0484e+00 (2.0484e+00)\n",
      "\u001b[34m-- Epoch 24/50\u001b[0m\n",
      "Epoch: [24][ 0/27]\tTotal Loss -2.3772e+00 (-2.3772e+00)\tConsistency Loss 1.7186e+00 (1.7186e+00)\tInconsistency Loss 1.9769e-01 (1.9769e-01)\tEntropy 2.0479e+00 (2.0479e+00)\n",
      "\u001b[34m-- Epoch 25/50\u001b[0m\n",
      "Epoch: [25][ 0/27]\tTotal Loss -2.3765e+00 (-2.3765e+00)\tConsistency Loss 1.7204e+00 (1.7204e+00)\tInconsistency Loss 1.9734e-01 (1.9734e-01)\tEntropy 2.0485e+00 (2.0485e+00)\n",
      "f1: Nan --> 0\n",
      "\u001b[34m-- Epoch 26/50\u001b[0m\n",
      "Epoch: [26][ 0/27]\tTotal Loss -2.3771e+00 (-2.3771e+00)\tConsistency Loss 1.7169e+00 (1.7169e+00)\tInconsistency Loss 1.9807e-01 (1.9807e-01)\tEntropy 2.0470e+00 (2.0470e+00)\n",
      "\u001b[34m-- Epoch 27/50\u001b[0m\n",
      "Epoch: [27][ 0/27]\tTotal Loss -2.3771e+00 (-2.3771e+00)\tConsistency Loss 1.7178e+00 (1.7178e+00)\tInconsistency Loss 1.9783e-01 (1.9783e-01)\tEntropy 2.0474e+00 (2.0474e+00)\n",
      "\u001b[34m-- Epoch 28/50\u001b[0m\n",
      "Epoch: [28][ 0/27]\tTotal Loss -2.3775e+00 (-2.3775e+00)\tConsistency Loss 1.7173e+00 (1.7173e+00)\tInconsistency Loss 1.9785e-01 (1.9785e-01)\tEntropy 2.0474e+00 (2.0474e+00)\n",
      "\u001b[34m-- Epoch 29/50\u001b[0m\n",
      "Epoch: [29][ 0/27]\tTotal Loss -2.3772e+00 (-2.3772e+00)\tConsistency Loss 1.7225e+00 (1.7225e+00)\tInconsistency Loss 1.9678e-01 (1.9678e-01)\tEntropy 2.0499e+00 (2.0499e+00)\n",
      "\u001b[34m-- Epoch 30/50\u001b[0m\n",
      "Epoch: [30][ 0/27]\tTotal Loss -2.3772e+00 (-2.3772e+00)\tConsistency Loss 1.7174e+00 (1.7174e+00)\tInconsistency Loss 1.9788e-01 (1.9788e-01)\tEntropy 2.0473e+00 (2.0473e+00)\n",
      "\u001b[34m-- Epoch 31/50\u001b[0m\n",
      "Epoch: [31][ 0/27]\tTotal Loss -2.3772e+00 (-2.3772e+00)\tConsistency Loss 1.7185e+00 (1.7185e+00)\tInconsistency Loss 1.9763e-01 (1.9763e-01)\tEntropy 2.0479e+00 (2.0479e+00)\n",
      "\u001b[34m-- Epoch 32/50\u001b[0m\n",
      "Epoch: [32][ 0/27]\tTotal Loss -2.3772e+00 (-2.3772e+00)\tConsistency Loss 1.7185e+00 (1.7185e+00)\tInconsistency Loss 1.9764e-01 (1.9764e-01)\tEntropy 2.0478e+00 (2.0478e+00)\n",
      "f1: Nan --> 0\n",
      "\u001b[34m-- Epoch 33/50\u001b[0m\n",
      "Epoch: [33][ 0/27]\tTotal Loss -2.3772e+00 (-2.3772e+00)\tConsistency Loss 1.7185e+00 (1.7185e+00)\tInconsistency Loss 1.9765e-01 (1.9765e-01)\tEntropy 2.0478e+00 (2.0478e+00)\n",
      "\u001b[34m-- Epoch 34/50\u001b[0m\n",
      "Epoch: [34][ 0/27]\tTotal Loss -2.3772e+00 (-2.3772e+00)\tConsistency Loss 1.7185e+00 (1.7185e+00)\tInconsistency Loss 1.9765e-01 (1.9765e-01)\tEntropy 2.0478e+00 (2.0478e+00)\n",
      "\u001b[34m-- Epoch 35/50\u001b[0m\n",
      "Epoch: [35][ 0/27]\tTotal Loss -2.3772e+00 (-2.3772e+00)\tConsistency Loss 1.7185e+00 (1.7185e+00)\tInconsistency Loss 1.9765e-01 (1.9765e-01)\tEntropy 2.0478e+00 (2.0478e+00)\n",
      "\u001b[34m-- Epoch 36/50\u001b[0m\n",
      "Epoch: [36][ 0/27]\tTotal Loss -2.3772e+00 (-2.3772e+00)\tConsistency Loss 1.7185e+00 (1.7185e+00)\tInconsistency Loss 1.9765e-01 (1.9765e-01)\tEntropy 2.0478e+00 (2.0478e+00)\n",
      "\u001b[34m-- Epoch 37/50\u001b[0m\n",
      "Epoch: [37][ 0/27]\tTotal Loss -2.3772e+00 (-2.3772e+00)\tConsistency Loss 1.7185e+00 (1.7185e+00)\tInconsistency Loss 1.9765e-01 (1.9765e-01)\tEntropy 2.0478e+00 (2.0478e+00)\n",
      "\u001b[34m-- Epoch 38/50\u001b[0m\n",
      "Epoch: [38][ 0/27]\tTotal Loss -2.3772e+00 (-2.3772e+00)\tConsistency Loss 1.7185e+00 (1.7185e+00)\tInconsistency Loss 1.9765e-01 (1.9765e-01)\tEntropy 2.0478e+00 (2.0478e+00)\n",
      "\u001b[34m-- Epoch 39/50\u001b[0m\n",
      "Epoch: [39][ 0/27]\tTotal Loss -2.3772e+00 (-2.3772e+00)\tConsistency Loss 1.7185e+00 (1.7185e+00)\tInconsistency Loss 1.9765e-01 (1.9765e-01)\tEntropy 2.0478e+00 (2.0478e+00)\n",
      "\u001b[34m-- Epoch 40/50\u001b[0m\n",
      "Epoch: [40][ 0/27]\tTotal Loss -2.3772e+00 (-2.3772e+00)\tConsistency Loss 1.7185e+00 (1.7185e+00)\tInconsistency Loss 1.9765e-01 (1.9765e-01)\tEntropy 2.0478e+00 (2.0478e+00)\n",
      "\u001b[34m-- Epoch 41/50\u001b[0m\n",
      "Epoch: [41][ 0/27]\tTotal Loss -2.3772e+00 (-2.3772e+00)\tConsistency Loss 1.7185e+00 (1.7185e+00)\tInconsistency Loss 1.9765e-01 (1.9765e-01)\tEntropy 2.0478e+00 (2.0478e+00)\n",
      "\u001b[34m-- Epoch 42/50\u001b[0m\n",
      "Epoch: [42][ 0/27]\tTotal Loss -2.3772e+00 (-2.3772e+00)\tConsistency Loss 1.7185e+00 (1.7185e+00)\tInconsistency Loss 1.9765e-01 (1.9765e-01)\tEntropy 2.0478e+00 (2.0478e+00)\n",
      "\u001b[34m-- Epoch 43/50\u001b[0m\n",
      "Epoch: [43][ 0/27]\tTotal Loss -2.3772e+00 (-2.3772e+00)\tConsistency Loss 1.7185e+00 (1.7185e+00)\tInconsistency Loss 1.9765e-01 (1.9765e-01)\tEntropy 2.0478e+00 (2.0478e+00)\n"
     ]
    }
   ],
   "source": [
    "import os\n",
    "\n",
    "with open('datasets/MSL_SMAP/labeled_anomalies.csv', 'r') as file:\n",
    "    csv_reader = pd.read_csv(file, delimiter=',')\n",
    "    \n",
    "data_info = csv_reader[csv_reader['spacecraft'] == 'MSL']\n",
    "\n",
    "lim = 3\n",
    "for file_name in data_info['chan_id']:\n",
    "    lim-=1\n",
    "    if lim == 0:\n",
    "        break\n",
    "    print(file_name)\n",
    "    %run -i 'carla_pretext.py' --config_env configs/env.yml --config_exp configs/pretext/carla_pretext_msl.yml --fname $file_name\n",
    "    %run -i 'carla_classification.py' --config_env configs/env.yml --config_exp configs/classification/carla_classification_msl.yml --fname $file_name"
   ]
  },
  {
   "cell_type": "code",
   "execution_count": null,
   "id": "6117bd86",
   "metadata": {},
   "outputs": [
    {
     "name": "stdout",
     "output_type": "stream",
     "text": [
      "real_59.csv\n",
      "\u001b[33mCARLA Pretext stage --> \u001b[0m\n",
      "ContrastiveModel(\n",
      "  (backbone): ResNetRepresentation(\n",
      "    (layers): Sequential(\n",
      "      (0): ResNetBlock(\n",
      "        (layers): Sequential(\n",
      "          (0): ConvBlock(\n",
      "            (layers): Sequential(\n",
      "              (0): Conv1dSamePadding(1, 2, kernel_size=(8,), stride=(1,))\n",
      "              (1): BatchNorm1d(2, eps=1e-05, momentum=0.1, affine=True, track_running_stats=True)\n",
      "              (2): GELU(approximate='none')\n",
      "            )\n",
      "          )\n",
      "          (1): ConvBlock(\n",
      "            (layers): Sequential(\n",
      "              (0): Conv1dSamePadding(2, 2, kernel_size=(5,), stride=(1,))\n",
      "              (1): BatchNorm1d(2, eps=1e-05, momentum=0.1, affine=True, track_running_stats=True)\n",
      "              (2): GELU(approximate='none')\n",
      "            )\n",
      "          )\n",
      "          (2): ConvBlock(\n",
      "            (layers): Sequential(\n",
      "              (0): Conv1dSamePadding(2, 4, kernel_size=(3,), stride=(1,))\n",
      "              (1): BatchNorm1d(4, eps=1e-05, momentum=0.1, affine=True, track_running_stats=True)\n",
      "              (2): GELU(approximate='none')\n",
      "            )\n",
      "          )\n",
      "        )\n",
      "        (residual): Sequential(\n",
      "          (0): Conv1dSamePadding(1, 4, kernel_size=(1,), stride=(1,))\n",
      "          (1): BatchNorm1d(4, eps=1e-05, momentum=0.1, affine=True, track_running_stats=True)\n",
      "        )\n",
      "      )\n",
      "      (1): ResNetBlock(\n",
      "        (layers): Sequential(\n",
      "          (0): ConvBlock(\n",
      "            (layers): Sequential(\n",
      "              (0): Conv1dSamePadding(4, 2, kernel_size=(8,), stride=(1,))\n",
      "              (1): BatchNorm1d(2, eps=1e-05, momentum=0.1, affine=True, track_running_stats=True)\n",
      "              (2): GELU(approximate='none')\n",
      "            )\n",
      "          )\n",
      "          (1): ConvBlock(\n",
      "            (layers): Sequential(\n",
      "              (0): Conv1dSamePadding(2, 2, kernel_size=(5,), stride=(1,))\n",
      "              (1): BatchNorm1d(2, eps=1e-05, momentum=0.1, affine=True, track_running_stats=True)\n",
      "              (2): GELU(approximate='none')\n",
      "            )\n",
      "          )\n",
      "          (2): ConvBlock(\n",
      "            (layers): Sequential(\n",
      "              (0): Conv1dSamePadding(2, 8, kernel_size=(3,), stride=(1,))\n",
      "              (1): BatchNorm1d(8, eps=1e-05, momentum=0.1, affine=True, track_running_stats=True)\n",
      "              (2): GELU(approximate='none')\n",
      "            )\n",
      "          )\n",
      "        )\n",
      "        (residual): Sequential(\n",
      "          (0): Conv1dSamePadding(4, 8, kernel_size=(1,), stride=(1,))\n",
      "          (1): BatchNorm1d(8, eps=1e-05, momentum=0.1, affine=True, track_running_stats=True)\n",
      "        )\n",
      "      )\n",
      "      (2): ResNetBlock(\n",
      "        (layers): Sequential(\n",
      "          (0): ConvBlock(\n",
      "            (layers): Sequential(\n",
      "              (0): Conv1dSamePadding(8, 2, kernel_size=(8,), stride=(1,))\n",
      "              (1): BatchNorm1d(2, eps=1e-05, momentum=0.1, affine=True, track_running_stats=True)\n",
      "              (2): GELU(approximate='none')\n",
      "            )\n",
      "          )\n",
      "          (1): ConvBlock(\n",
      "            (layers): Sequential(\n",
      "              (0): Conv1dSamePadding(2, 2, kernel_size=(5,), stride=(1,))\n",
      "              (1): BatchNorm1d(2, eps=1e-05, momentum=0.1, affine=True, track_running_stats=True)\n",
      "              (2): GELU(approximate='none')\n",
      "            )\n",
      "          )\n",
      "          (2): ConvBlock(\n",
      "            (layers): Sequential(\n",
      "              (0): Conv1dSamePadding(2, 8, kernel_size=(3,), stride=(1,))\n",
      "              (1): BatchNorm1d(8, eps=1e-05, momentum=0.1, affine=True, track_running_stats=True)\n",
      "              (2): GELU(approximate='none')\n",
      "            )\n",
      "          )\n",
      "        )\n",
      "      )\n",
      "    )\n",
      "  )\n",
      "  (contrastive_head): Sequential(\n",
      "    (0): Linear(in_features=8, out_features=8, bias=True)\n",
      "    (1): ReLU()\n",
      "    (2): Linear(in_features=8, out_features=4, bias=True)\n",
      "  )\n",
      ")\n",
      "datasets/yahoo/real_59.csv\n",
      ">>> train/test w. shapes of (711,)/(712,)\n",
      "Dataset contains 461/462 train/val samples\n",
      "\u001b[34mNo checkpoint file at results/yahoo/real_59.csv/pretext/checkpoint.pth.tar\u001b[0m\n",
      "\u001b[33mEpoch 1/30\u001b[0m\n",
      "\u001b[33m---------------\u001b[0m\n",
      "Adjusted learning rate to 0.00100\n",
      "Epoch: [1][0/9]\tLoss 9.9994e-01 (9.9994e-01)\n",
      "\u001b[33mEpoch 2/30\u001b[0m\n",
      "\u001b[33m---------------\u001b[0m\n",
      "Adjusted learning rate to 0.00100\n",
      "Epoch: [2][0/9]\tLoss 9.9944e-01 (9.9944e-01)\n",
      "\u001b[33mEpoch 3/30\u001b[0m\n",
      "\u001b[33m---------------\u001b[0m\n",
      "Adjusted learning rate to 0.00099\n",
      "Epoch: [3][0/9]\tLoss 9.9979e-01 (9.9979e-01)\n",
      "\u001b[33mEpoch 4/30\u001b[0m\n",
      "\u001b[33m---------------\u001b[0m\n",
      "Adjusted learning rate to 0.00098\n",
      "Epoch: [4][0/9]\tLoss 9.9993e-01 (9.9993e-01)\n",
      "\u001b[33mEpoch 5/30\u001b[0m\n",
      "\u001b[33m---------------\u001b[0m\n",
      "Adjusted learning rate to 0.00096\n",
      "Epoch: [5][0/9]\tLoss 9.9962e-01 (9.9962e-01)\n",
      "\u001b[33mEpoch 6/30\u001b[0m\n",
      "\u001b[33m---------------\u001b[0m\n",
      "Adjusted learning rate to 0.00093\n",
      "Epoch: [6][0/9]\tLoss 9.9981e-01 (9.9981e-01)\n",
      "\u001b[33mEpoch 7/30\u001b[0m\n",
      "\u001b[33m---------------\u001b[0m\n",
      "Adjusted learning rate to 0.00090\n",
      "Epoch: [7][0/9]\tLoss 9.9989e-01 (9.9989e-01)\n",
      "\u001b[33mEpoch 8/30\u001b[0m\n",
      "\u001b[33m---------------\u001b[0m\n",
      "Adjusted learning rate to 0.00087\n",
      "Epoch: [8][0/9]\tLoss 9.9981e-01 (9.9981e-01)\n",
      "\u001b[33mEpoch 9/30\u001b[0m\n",
      "\u001b[33m---------------\u001b[0m\n",
      "Adjusted learning rate to 0.00083\n",
      "Epoch: [9][0/9]\tLoss 9.9996e-01 (9.9996e-01)\n",
      "\u001b[33mEpoch 10/30\u001b[0m\n",
      "\u001b[33m---------------\u001b[0m\n",
      "Adjusted learning rate to 0.00079\n",
      "Epoch: [10][0/9]\tLoss 1.0000e+00 (1.0000e+00)\n",
      "\u001b[33mEpoch 11/30\u001b[0m\n",
      "\u001b[33m---------------\u001b[0m\n",
      "Adjusted learning rate to 0.00075\n",
      "Epoch: [11][0/9]\tLoss 9.9977e-01 (9.9977e-01)\n",
      "\u001b[33mEpoch 12/30\u001b[0m\n",
      "\u001b[33m---------------\u001b[0m\n",
      "Adjusted learning rate to 0.00070\n",
      "Epoch: [12][0/9]\tLoss 9.9939e-01 (9.9939e-01)\n",
      "\u001b[33mEpoch 13/30\u001b[0m\n",
      "\u001b[33m---------------\u001b[0m\n",
      "Adjusted learning rate to 0.00065\n",
      "Epoch: [13][0/9]\tLoss 9.9988e-01 (9.9988e-01)\n",
      "\u001b[33mEpoch 14/30\u001b[0m\n",
      "\u001b[33m---------------\u001b[0m\n",
      "Adjusted learning rate to 0.00060\n",
      "Epoch: [14][0/9]\tLoss 9.9994e-01 (9.9994e-01)\n",
      "\u001b[33mEpoch 15/30\u001b[0m\n",
      "\u001b[33m---------------\u001b[0m\n",
      "Adjusted learning rate to 0.00055\n",
      "Epoch: [15][0/9]\tLoss 9.9988e-01 (9.9988e-01)\n",
      "\u001b[33mEpoch 16/30\u001b[0m\n",
      "\u001b[33m---------------\u001b[0m\n",
      "Adjusted learning rate to 0.00050\n",
      "Epoch: [16][0/9]\tLoss 9.9987e-01 (9.9987e-01)\n",
      "\u001b[33mEpoch 17/30\u001b[0m\n",
      "\u001b[33m---------------\u001b[0m\n",
      "Adjusted learning rate to 0.00045\n",
      "Epoch: [17][0/9]\tLoss 9.9968e-01 (9.9968e-01)\n",
      "\u001b[33mEpoch 18/30\u001b[0m\n",
      "\u001b[33m---------------\u001b[0m\n",
      "Adjusted learning rate to 0.00040\n",
      "Epoch: [18][0/9]\tLoss 9.9957e-01 (9.9957e-01)\n",
      "\u001b[33mEpoch 19/30\u001b[0m\n",
      "\u001b[33m---------------\u001b[0m\n",
      "Adjusted learning rate to 0.00035\n",
      "Epoch: [19][0/9]\tLoss 9.9980e-01 (9.9980e-01)\n",
      "\u001b[33mEpoch 20/30\u001b[0m\n",
      "\u001b[33m---------------\u001b[0m\n",
      "Adjusted learning rate to 0.00030\n",
      "Epoch: [20][0/9]\tLoss 9.9989e-01 (9.9989e-01)\n",
      "\u001b[33mEpoch 21/30\u001b[0m\n",
      "\u001b[33m---------------\u001b[0m\n",
      "Adjusted learning rate to 0.00025\n",
      "Epoch: [21][0/9]\tLoss 9.9959e-01 (9.9959e-01)\n",
      "\u001b[33mEpoch 22/30\u001b[0m\n",
      "\u001b[33m---------------\u001b[0m\n",
      "Adjusted learning rate to 0.00021\n",
      "Epoch: [22][0/9]\tLoss 9.9965e-01 (9.9965e-01)\n",
      "\u001b[33mEpoch 23/30\u001b[0m\n",
      "\u001b[33m---------------\u001b[0m\n",
      "Adjusted learning rate to 0.00017\n",
      "Epoch: [23][0/9]\tLoss 9.9981e-01 (9.9981e-01)\n",
      "\u001b[33mEpoch 24/30\u001b[0m\n",
      "\u001b[33m---------------\u001b[0m\n",
      "Adjusted learning rate to 0.00013\n",
      "Epoch: [24][0/9]\tLoss 9.9967e-01 (9.9967e-01)\n",
      "\u001b[33mEpoch 25/30\u001b[0m\n",
      "\u001b[33m---------------\u001b[0m\n",
      "Adjusted learning rate to 0.00010\n",
      "Epoch: [25][0/9]\tLoss 9.9988e-01 (9.9988e-01)\n",
      "\u001b[33mEpoch 26/30\u001b[0m\n",
      "\u001b[33m---------------\u001b[0m\n",
      "Adjusted learning rate to 0.00007\n",
      "Epoch: [26][0/9]\tLoss 9.9996e-01 (9.9996e-01)\n",
      "\u001b[33mEpoch 27/30\u001b[0m\n",
      "\u001b[33m---------------\u001b[0m\n",
      "Adjusted learning rate to 0.00004\n",
      "Epoch: [27][0/9]\tLoss 9.9983e-01 (9.9983e-01)\n",
      "\u001b[33mEpoch 28/30\u001b[0m\n",
      "\u001b[33m---------------\u001b[0m\n",
      "Adjusted learning rate to 0.00002\n",
      "Epoch: [28][0/9]\tLoss 9.9990e-01 (9.9990e-01)\n",
      "\u001b[33mEpoch 29/30\u001b[0m\n",
      "\u001b[33m---------------\u001b[0m\n",
      "Adjusted learning rate to 0.00001\n",
      "Epoch: [29][0/9]\tLoss 9.9986e-01 (9.9986e-01)\n",
      "\u001b[33mEpoch 30/30\u001b[0m\n",
      "\u001b[33m---------------\u001b[0m\n",
      "Adjusted learning rate to 0.00000\n",
      "Epoch: [30][0/9]\tLoss 9.9966e-01 (9.9966e-01)\n",
      "\u001b[34mFill TS Repository for mining the nearest/furthest neighbors (train) ...\u001b[0m\n",
      "Fill TS Repository [0/10]\n",
      "Mine the nearest neighbors (Top-10)\n",
      "\u001b[34mFill TS Repository for mining the nearest/furthest neighbors (val) ...\u001b[0m\n",
      "Fill TS Repository [0/10]\n",
      "Mine the nearest and furthest neighbors (Top-10)\n",
      "\u001b[33mCARLA Self-supervised Classification stage --> \u001b[0m\n",
      "\u001b[32m\n",
      "- Get dataset and dataloaders for yahoo dataset - timeseries real_59.csv\u001b[0m\n",
      "\u001b[32m-- Train samples size: 922 - Test samples size: 462\u001b[0m\n",
      "\u001b[32m\n",
      "- Model initialisation\u001b[0m\n",
      "\u001b[32m-- No checkpoint file at results/yahoo/real_59.csv/classification/checkpoint.pth.tar -- new model initialised\u001b[0m\n",
      "\u001b[34m\n",
      "- Training:\u001b[0m\n",
      "\u001b[34m-- Epoch 1/50\u001b[0m\n",
      "Epoch: [1][ 0/18]\tTotal Loss -2.3011e+00 (-2.3011e+00)\tConsistency Loss 2.2548e+00 (2.2548e+00)\tInconsistency Loss 1.1066e-01 (1.1066e-01)\tEntropy 2.2780e+00 (2.2780e+00)\n",
      "\u001b[34m-- Epoch 2/50\u001b[0m\n"
     ]
    },
    {
     "name": "stderr",
     "output_type": "stream",
     "text": [
      "/opt/miniconda3/envs/carla/lib/python3.13/site-packages/sklearn/metrics/_ranking.py:1033: UserWarning: No positive class found in y_true, recall is set to one for all thresholds.\n",
      "  warnings.warn(\n"
     ]
    },
    {
     "name": "stdout",
     "output_type": "stream",
     "text": [
      "Epoch: [2][ 0/18]\tTotal Loss -2.3724e+00 (-2.3724e+00)\tConsistency Loss 1.7421e+00 (1.7421e+00)\tInconsistency Loss 1.9344e-01 (1.9344e-01)\tEntropy 2.0573e+00 (2.0573e+00)\n",
      "\u001b[34m-- Epoch 3/50\u001b[0m\n"
     ]
    },
    {
     "name": "stderr",
     "output_type": "stream",
     "text": [
      "/opt/miniconda3/envs/carla/lib/python3.13/site-packages/sklearn/metrics/_ranking.py:1033: UserWarning: No positive class found in y_true, recall is set to one for all thresholds.\n",
      "  warnings.warn(\n"
     ]
    },
    {
     "name": "stdout",
     "output_type": "stream",
     "text": [
      "Epoch: [3][ 0/18]\tTotal Loss -2.3501e+00 (-2.3501e+00)\tConsistency Loss 1.7022e+00 (1.7022e+00)\tInconsistency Loss 2.0285e-01 (2.0285e-01)\tEntropy 2.0261e+00 (2.0261e+00)\n",
      "\u001b[34m-- Epoch 4/50\u001b[0m\n"
     ]
    },
    {
     "name": "stderr",
     "output_type": "stream",
     "text": [
      "/opt/miniconda3/envs/carla/lib/python3.13/site-packages/sklearn/metrics/_ranking.py:1033: UserWarning: No positive class found in y_true, recall is set to one for all thresholds.\n",
      "  warnings.warn(\n"
     ]
    },
    {
     "name": "stdout",
     "output_type": "stream",
     "text": [
      "Epoch: [4][ 0/18]\tTotal Loss -2.3516e+00 (-2.3516e+00)\tConsistency Loss 1.7870e+00 (1.7870e+00)\tInconsistency Loss 1.9002e-01 (1.9002e-01)\tEntropy 2.0693e+00 (2.0693e+00)\n",
      "\u001b[34m-- Epoch 5/50\u001b[0m\n"
     ]
    },
    {
     "name": "stderr",
     "output_type": "stream",
     "text": [
      "/opt/miniconda3/envs/carla/lib/python3.13/site-packages/sklearn/metrics/_ranking.py:1033: UserWarning: No positive class found in y_true, recall is set to one for all thresholds.\n",
      "  warnings.warn(\n"
     ]
    },
    {
     "name": "stdout",
     "output_type": "stream",
     "text": [
      "Epoch: [5][ 0/18]\tTotal Loss -2.3753e+00 (-2.3753e+00)\tConsistency Loss 1.8393e+00 (1.8393e+00)\tInconsistency Loss 1.7637e-01 (1.7637e-01)\tEntropy 2.1073e+00 (2.1073e+00)\n",
      "\u001b[34m-- Epoch 6/50\u001b[0m\n"
     ]
    },
    {
     "name": "stderr",
     "output_type": "stream",
     "text": [
      "/opt/miniconda3/envs/carla/lib/python3.13/site-packages/sklearn/metrics/_ranking.py:1033: UserWarning: No positive class found in y_true, recall is set to one for all thresholds.\n",
      "  warnings.warn(\n"
     ]
    },
    {
     "name": "stdout",
     "output_type": "stream",
     "text": [
      "Epoch: [6][ 0/18]\tTotal Loss -2.3605e+00 (-2.3605e+00)\tConsistency Loss 1.8197e+00 (1.8197e+00)\tInconsistency Loss 1.8148e-01 (1.8148e-01)\tEntropy 2.0901e+00 (2.0901e+00)\n",
      "\u001b[34m-- Epoch 7/50\u001b[0m\n"
     ]
    },
    {
     "name": "stderr",
     "output_type": "stream",
     "text": [
      "/opt/miniconda3/envs/carla/lib/python3.13/site-packages/sklearn/metrics/_ranking.py:1033: UserWarning: No positive class found in y_true, recall is set to one for all thresholds.\n",
      "  warnings.warn(\n"
     ]
    },
    {
     "name": "stdout",
     "output_type": "stream",
     "text": [
      "Epoch: [7][ 0/18]\tTotal Loss -2.3839e+00 (-2.3839e+00)\tConsistency Loss 1.7580e+00 (1.7580e+00)\tInconsistency Loss 1.8526e-01 (1.8526e-01)\tEntropy 2.0709e+00 (2.0709e+00)\n",
      "\u001b[34m-- Epoch 8/50\u001b[0m\n"
     ]
    },
    {
     "name": "stderr",
     "output_type": "stream",
     "text": [
      "/opt/miniconda3/envs/carla/lib/python3.13/site-packages/sklearn/metrics/_ranking.py:1033: UserWarning: No positive class found in y_true, recall is set to one for all thresholds.\n",
      "  warnings.warn(\n"
     ]
    },
    {
     "name": "stdout",
     "output_type": "stream",
     "text": [
      "Epoch: [8][ 0/18]\tTotal Loss -2.3833e+00 (-2.3833e+00)\tConsistency Loss 1.6568e+00 (1.6568e+00)\tInconsistency Loss 2.0418e-01 (2.0418e-01)\tEntropy 2.0201e+00 (2.0201e+00)\n",
      "\u001b[34m-- Epoch 9/50\u001b[0m\n"
     ]
    },
    {
     "name": "stderr",
     "output_type": "stream",
     "text": [
      "/opt/miniconda3/envs/carla/lib/python3.13/site-packages/sklearn/metrics/_ranking.py:1033: UserWarning: No positive class found in y_true, recall is set to one for all thresholds.\n",
      "  warnings.warn(\n"
     ]
    },
    {
     "name": "stdout",
     "output_type": "stream",
     "text": [
      "Epoch: [9][ 0/18]\tTotal Loss -2.4043e+00 (-2.4043e+00)\tConsistency Loss 1.7100e+00 (1.7100e+00)\tInconsistency Loss 1.9763e-01 (1.9763e-01)\tEntropy 2.0572e+00 (2.0572e+00)\n",
      "\u001b[34m-- Epoch 10/50\u001b[0m\n"
     ]
    },
    {
     "name": "stderr",
     "output_type": "stream",
     "text": [
      "/opt/miniconda3/envs/carla/lib/python3.13/site-packages/sklearn/metrics/_ranking.py:1033: UserWarning: No positive class found in y_true, recall is set to one for all thresholds.\n",
      "  warnings.warn(\n"
     ]
    },
    {
     "name": "stdout",
     "output_type": "stream",
     "text": [
      "Epoch: [10][ 0/18]\tTotal Loss -2.3611e+00 (-2.3611e+00)\tConsistency Loss 1.8027e+00 (1.8027e+00)\tInconsistency Loss 1.7747e-01 (1.7747e-01)\tEntropy 2.0819e+00 (2.0819e+00)\n",
      "\u001b[34m-- Epoch 11/50\u001b[0m\n"
     ]
    },
    {
     "name": "stderr",
     "output_type": "stream",
     "text": [
      "/opt/miniconda3/envs/carla/lib/python3.13/site-packages/sklearn/metrics/_ranking.py:1033: UserWarning: No positive class found in y_true, recall is set to one for all thresholds.\n",
      "  warnings.warn(\n"
     ]
    },
    {
     "name": "stdout",
     "output_type": "stream",
     "text": [
      "Epoch: [11][ 0/18]\tTotal Loss -2.3615e+00 (-2.3615e+00)\tConsistency Loss 1.6971e+00 (1.6971e+00)\tInconsistency Loss 2.0697e-01 (2.0697e-01)\tEntropy 2.0293e+00 (2.0293e+00)\n",
      "\u001b[34m-- Epoch 12/50\u001b[0m\n"
     ]
    },
    {
     "name": "stderr",
     "output_type": "stream",
     "text": [
      "/opt/miniconda3/envs/carla/lib/python3.13/site-packages/sklearn/metrics/_ranking.py:1033: UserWarning: No positive class found in y_true, recall is set to one for all thresholds.\n",
      "  warnings.warn(\n"
     ]
    },
    {
     "name": "stdout",
     "output_type": "stream",
     "text": [
      "Epoch: [12][ 0/18]\tTotal Loss -2.3663e+00 (-2.3663e+00)\tConsistency Loss 1.6722e+00 (1.6722e+00)\tInconsistency Loss 2.0121e-01 (2.0121e-01)\tEntropy 2.0192e+00 (2.0192e+00)\n",
      "\u001b[34m-- Epoch 13/50\u001b[0m\n"
     ]
    },
    {
     "name": "stderr",
     "output_type": "stream",
     "text": [
      "/opt/miniconda3/envs/carla/lib/python3.13/site-packages/sklearn/metrics/_ranking.py:1033: UserWarning: No positive class found in y_true, recall is set to one for all thresholds.\n",
      "  warnings.warn(\n"
     ]
    },
    {
     "name": "stdout",
     "output_type": "stream",
     "text": [
      "Epoch: [13][ 0/18]\tTotal Loss -2.3774e+00 (-2.3774e+00)\tConsistency Loss 1.7274e+00 (1.7274e+00)\tInconsistency Loss 1.9584e-01 (1.9584e-01)\tEntropy 2.0524e+00 (2.0524e+00)\n",
      "\u001b[34m-- Epoch 14/50\u001b[0m\n"
     ]
    },
    {
     "name": "stderr",
     "output_type": "stream",
     "text": [
      "/opt/miniconda3/envs/carla/lib/python3.13/site-packages/sklearn/metrics/_ranking.py:1033: UserWarning: No positive class found in y_true, recall is set to one for all thresholds.\n",
      "  warnings.warn(\n"
     ]
    },
    {
     "name": "stdout",
     "output_type": "stream",
     "text": [
      "Epoch: [14][ 0/18]\tTotal Loss -2.3797e+00 (-2.3797e+00)\tConsistency Loss 1.7461e+00 (1.7461e+00)\tInconsistency Loss 1.9169e-01 (1.9169e-01)\tEntropy 2.0629e+00 (2.0629e+00)\n",
      "\u001b[34m-- Epoch 15/50\u001b[0m\n"
     ]
    },
    {
     "name": "stderr",
     "output_type": "stream",
     "text": [
      "/opt/miniconda3/envs/carla/lib/python3.13/site-packages/sklearn/metrics/_ranking.py:1033: UserWarning: No positive class found in y_true, recall is set to one for all thresholds.\n",
      "  warnings.warn(\n"
     ]
    },
    {
     "name": "stdout",
     "output_type": "stream",
     "text": [
      "Epoch: [15][ 0/18]\tTotal Loss -2.3788e+00 (-2.3788e+00)\tConsistency Loss 1.7573e+00 (1.7573e+00)\tInconsistency Loss 1.8779e-01 (1.8779e-01)\tEntropy 2.0681e+00 (2.0681e+00)\n",
      "\u001b[34m-- Epoch 16/50\u001b[0m\n"
     ]
    },
    {
     "name": "stderr",
     "output_type": "stream",
     "text": [
      "/opt/miniconda3/envs/carla/lib/python3.13/site-packages/sklearn/metrics/_ranking.py:1033: UserWarning: No positive class found in y_true, recall is set to one for all thresholds.\n",
      "  warnings.warn(\n"
     ]
    },
    {
     "name": "stdout",
     "output_type": "stream",
     "text": [
      "Epoch: [16][ 0/18]\tTotal Loss -2.3751e+00 (-2.3751e+00)\tConsistency Loss 1.7434e+00 (1.7434e+00)\tInconsistency Loss 1.9455e-01 (1.9455e-01)\tEntropy 2.0592e+00 (2.0592e+00)\n",
      "\u001b[34m-- Epoch 17/50\u001b[0m\n"
     ]
    },
    {
     "name": "stderr",
     "output_type": "stream",
     "text": [
      "/opt/miniconda3/envs/carla/lib/python3.13/site-packages/sklearn/metrics/_ranking.py:1033: UserWarning: No positive class found in y_true, recall is set to one for all thresholds.\n",
      "  warnings.warn(\n"
     ]
    },
    {
     "name": "stdout",
     "output_type": "stream",
     "text": [
      "Epoch: [17][ 0/18]\tTotal Loss -2.3794e+00 (-2.3794e+00)\tConsistency Loss 1.7456e+00 (1.7456e+00)\tInconsistency Loss 1.9470e-01 (1.9470e-01)\tEntropy 2.0625e+00 (2.0625e+00)\n",
      "\u001b[34m-- Epoch 18/50\u001b[0m\n"
     ]
    },
    {
     "name": "stderr",
     "output_type": "stream",
     "text": [
      "/opt/miniconda3/envs/carla/lib/python3.13/site-packages/sklearn/metrics/_ranking.py:1033: UserWarning: No positive class found in y_true, recall is set to one for all thresholds.\n",
      "  warnings.warn(\n"
     ]
    },
    {
     "name": "stdout",
     "output_type": "stream",
     "text": [
      "Epoch: [18][ 0/18]\tTotal Loss -2.3815e+00 (-2.3815e+00)\tConsistency Loss 1.6818e+00 (1.6818e+00)\tInconsistency Loss 2.0464e-01 (2.0464e-01)\tEntropy 2.0316e+00 (2.0316e+00)\n",
      "\u001b[34m-- Epoch 19/50\u001b[0m\n"
     ]
    },
    {
     "name": "stderr",
     "output_type": "stream",
     "text": [
      "/opt/miniconda3/envs/carla/lib/python3.13/site-packages/sklearn/metrics/_ranking.py:1033: UserWarning: No positive class found in y_true, recall is set to one for all thresholds.\n",
      "  warnings.warn(\n"
     ]
    },
    {
     "name": "stdout",
     "output_type": "stream",
     "text": [
      "Epoch: [19][ 0/18]\tTotal Loss -2.3682e+00 (-2.3682e+00)\tConsistency Loss 1.7505e+00 (1.7505e+00)\tInconsistency Loss 1.9401e-01 (1.9401e-01)\tEntropy 2.0594e+00 (2.0594e+00)\n",
      "\u001b[34m-- Epoch 20/50\u001b[0m\n"
     ]
    },
    {
     "name": "stderr",
     "output_type": "stream",
     "text": [
      "/opt/miniconda3/envs/carla/lib/python3.13/site-packages/sklearn/metrics/_ranking.py:1033: UserWarning: No positive class found in y_true, recall is set to one for all thresholds.\n",
      "  warnings.warn(\n"
     ]
    },
    {
     "name": "stdout",
     "output_type": "stream",
     "text": [
      "Epoch: [20][ 0/18]\tTotal Loss -2.3697e+00 (-2.3697e+00)\tConsistency Loss 1.7258e+00 (1.7258e+00)\tInconsistency Loss 1.9722e-01 (1.9722e-01)\tEntropy 2.0477e+00 (2.0477e+00)\n",
      "\u001b[34m-- Epoch 21/50\u001b[0m\n"
     ]
    },
    {
     "name": "stderr",
     "output_type": "stream",
     "text": [
      "/opt/miniconda3/envs/carla/lib/python3.13/site-packages/sklearn/metrics/_ranking.py:1033: UserWarning: No positive class found in y_true, recall is set to one for all thresholds.\n",
      "  warnings.warn(\n"
     ]
    },
    {
     "name": "stdout",
     "output_type": "stream",
     "text": [
      "Epoch: [21][ 0/18]\tTotal Loss -2.3675e+00 (-2.3675e+00)\tConsistency Loss 1.7321e+00 (1.7321e+00)\tInconsistency Loss 1.9587e-01 (1.9587e-01)\tEntropy 2.0498e+00 (2.0498e+00)\n",
      "\u001b[34m-- Epoch 22/50\u001b[0m\n"
     ]
    },
    {
     "name": "stderr",
     "output_type": "stream",
     "text": [
      "/opt/miniconda3/envs/carla/lib/python3.13/site-packages/sklearn/metrics/_ranking.py:1033: UserWarning: No positive class found in y_true, recall is set to one for all thresholds.\n",
      "  warnings.warn(\n"
     ]
    },
    {
     "name": "stdout",
     "output_type": "stream",
     "text": [
      "Epoch: [22][ 0/18]\tTotal Loss -2.3848e+00 (-2.3848e+00)\tConsistency Loss 1.7171e+00 (1.7171e+00)\tInconsistency Loss 1.9691e-01 (1.9691e-01)\tEntropy 2.0509e+00 (2.0509e+00)\n",
      "\u001b[34m-- Epoch 23/50\u001b[0m\n"
     ]
    },
    {
     "name": "stderr",
     "output_type": "stream",
     "text": [
      "/opt/miniconda3/envs/carla/lib/python3.13/site-packages/sklearn/metrics/_ranking.py:1033: UserWarning: No positive class found in y_true, recall is set to one for all thresholds.\n",
      "  warnings.warn(\n"
     ]
    },
    {
     "name": "stdout",
     "output_type": "stream",
     "text": [
      "Epoch: [23][ 0/18]\tTotal Loss -2.3798e+00 (-2.3798e+00)\tConsistency Loss 1.7545e+00 (1.7545e+00)\tInconsistency Loss 1.8905e-01 (1.8905e-01)\tEntropy 2.0671e+00 (2.0671e+00)\n",
      "\u001b[34m-- Epoch 24/50\u001b[0m\n"
     ]
    },
    {
     "name": "stderr",
     "output_type": "stream",
     "text": [
      "/opt/miniconda3/envs/carla/lib/python3.13/site-packages/sklearn/metrics/_ranking.py:1033: UserWarning: No positive class found in y_true, recall is set to one for all thresholds.\n",
      "  warnings.warn(\n"
     ]
    },
    {
     "name": "stdout",
     "output_type": "stream",
     "text": [
      "Epoch: [24][ 0/18]\tTotal Loss -2.3849e+00 (-2.3849e+00)\tConsistency Loss 1.7286e+00 (1.7286e+00)\tInconsistency Loss 1.9441e-01 (1.9441e-01)\tEntropy 2.0567e+00 (2.0567e+00)\n",
      "\u001b[34m-- Epoch 25/50\u001b[0m\n"
     ]
    },
    {
     "name": "stderr",
     "output_type": "stream",
     "text": [
      "/opt/miniconda3/envs/carla/lib/python3.13/site-packages/sklearn/metrics/_ranking.py:1033: UserWarning: No positive class found in y_true, recall is set to one for all thresholds.\n",
      "  warnings.warn(\n"
     ]
    },
    {
     "name": "stdout",
     "output_type": "stream",
     "text": [
      "Epoch: [25][ 0/18]\tTotal Loss -2.3748e+00 (-2.3748e+00)\tConsistency Loss 1.7178e+00 (1.7178e+00)\tInconsistency Loss 1.9782e-01 (1.9782e-01)\tEntropy 2.0463e+00 (2.0463e+00)\n",
      "\u001b[34m-- Epoch 26/50\u001b[0m\n"
     ]
    },
    {
     "name": "stderr",
     "output_type": "stream",
     "text": [
      "/opt/miniconda3/envs/carla/lib/python3.13/site-packages/sklearn/metrics/_ranking.py:1033: UserWarning: No positive class found in y_true, recall is set to one for all thresholds.\n",
      "  warnings.warn(\n"
     ]
    },
    {
     "name": "stdout",
     "output_type": "stream",
     "text": [
      "Epoch: [26][ 0/18]\tTotal Loss -2.3754e+00 (-2.3754e+00)\tConsistency Loss 1.7159e+00 (1.7159e+00)\tInconsistency Loss 1.9837e-01 (1.9837e-01)\tEntropy 2.0456e+00 (2.0456e+00)\n",
      "\u001b[34m-- Epoch 27/50\u001b[0m\n"
     ]
    },
    {
     "name": "stderr",
     "output_type": "stream",
     "text": [
      "/opt/miniconda3/envs/carla/lib/python3.13/site-packages/sklearn/metrics/_ranking.py:1033: UserWarning: No positive class found in y_true, recall is set to one for all thresholds.\n",
      "  warnings.warn(\n"
     ]
    },
    {
     "name": "stdout",
     "output_type": "stream",
     "text": [
      "Epoch: [27][ 0/18]\tTotal Loss -2.3754e+00 (-2.3754e+00)\tConsistency Loss 1.7219e+00 (1.7219e+00)\tInconsistency Loss 1.9663e-01 (1.9663e-01)\tEntropy 2.0487e+00 (2.0487e+00)\n",
      "\u001b[34m-- Epoch 28/50\u001b[0m\n"
     ]
    },
    {
     "name": "stderr",
     "output_type": "stream",
     "text": [
      "/opt/miniconda3/envs/carla/lib/python3.13/site-packages/sklearn/metrics/_ranking.py:1033: UserWarning: No positive class found in y_true, recall is set to one for all thresholds.\n",
      "  warnings.warn(\n"
     ]
    },
    {
     "name": "stdout",
     "output_type": "stream",
     "text": [
      "Epoch: [28][ 0/18]\tTotal Loss -2.3722e+00 (-2.3722e+00)\tConsistency Loss 1.7281e+00 (1.7281e+00)\tInconsistency Loss 1.9641e-01 (1.9641e-01)\tEntropy 2.0501e+00 (2.0501e+00)\n",
      "\u001b[34m-- Epoch 29/50\u001b[0m\n"
     ]
    },
    {
     "name": "stderr",
     "output_type": "stream",
     "text": [
      "/opt/miniconda3/envs/carla/lib/python3.13/site-packages/sklearn/metrics/_ranking.py:1033: UserWarning: No positive class found in y_true, recall is set to one for all thresholds.\n",
      "  warnings.warn(\n"
     ]
    },
    {
     "name": "stdout",
     "output_type": "stream",
     "text": [
      "Epoch: [29][ 0/18]\tTotal Loss -2.3742e+00 (-2.3742e+00)\tConsistency Loss 1.7305e+00 (1.7305e+00)\tInconsistency Loss 1.9479e-01 (1.9479e-01)\tEntropy 2.0524e+00 (2.0524e+00)\n",
      "\u001b[34m-- Epoch 30/50\u001b[0m\n"
     ]
    },
    {
     "name": "stderr",
     "output_type": "stream",
     "text": [
      "/opt/miniconda3/envs/carla/lib/python3.13/site-packages/sklearn/metrics/_ranking.py:1033: UserWarning: No positive class found in y_true, recall is set to one for all thresholds.\n",
      "  warnings.warn(\n"
     ]
    },
    {
     "name": "stdout",
     "output_type": "stream",
     "text": [
      "Epoch: [30][ 0/18]\tTotal Loss -2.3775e+00 (-2.3775e+00)\tConsistency Loss 1.7304e+00 (1.7304e+00)\tInconsistency Loss 1.9526e-01 (1.9526e-01)\tEntropy 2.0540e+00 (2.0540e+00)\n",
      "\u001b[34m-- Epoch 31/50\u001b[0m\n"
     ]
    },
    {
     "name": "stderr",
     "output_type": "stream",
     "text": [
      "/opt/miniconda3/envs/carla/lib/python3.13/site-packages/sklearn/metrics/_ranking.py:1033: UserWarning: No positive class found in y_true, recall is set to one for all thresholds.\n",
      "  warnings.warn(\n"
     ]
    },
    {
     "name": "stdout",
     "output_type": "stream",
     "text": [
      "Epoch: [31][ 0/18]\tTotal Loss -2.3820e+00 (-2.3820e+00)\tConsistency Loss 1.7343e+00 (1.7343e+00)\tInconsistency Loss 1.9355e-01 (1.9355e-01)\tEntropy 2.0582e+00 (2.0582e+00)\n",
      "\u001b[34m-- Epoch 32/50\u001b[0m\n"
     ]
    },
    {
     "name": "stderr",
     "output_type": "stream",
     "text": [
      "/opt/miniconda3/envs/carla/lib/python3.13/site-packages/sklearn/metrics/_ranking.py:1033: UserWarning: No positive class found in y_true, recall is set to one for all thresholds.\n",
      "  warnings.warn(\n"
     ]
    },
    {
     "name": "stdout",
     "output_type": "stream",
     "text": [
      "Epoch: [32][ 0/18]\tTotal Loss -2.3752e+00 (-2.3752e+00)\tConsistency Loss 1.7160e+00 (1.7160e+00)\tInconsistency Loss 1.9801e-01 (1.9801e-01)\tEntropy 2.0456e+00 (2.0456e+00)\n",
      "\u001b[34m-- Epoch 33/50\u001b[0m\n"
     ]
    },
    {
     "name": "stderr",
     "output_type": "stream",
     "text": [
      "/opt/miniconda3/envs/carla/lib/python3.13/site-packages/sklearn/metrics/_ranking.py:1033: UserWarning: No positive class found in y_true, recall is set to one for all thresholds.\n",
      "  warnings.warn(\n"
     ]
    },
    {
     "name": "stdout",
     "output_type": "stream",
     "text": [
      "Epoch: [33][ 0/18]\tTotal Loss -2.3751e+00 (-2.3751e+00)\tConsistency Loss 1.7356e+00 (1.7356e+00)\tInconsistency Loss 1.9451e-01 (1.9451e-01)\tEntropy 2.0553e+00 (2.0553e+00)\n",
      "\u001b[34m-- Epoch 34/50\u001b[0m\n"
     ]
    },
    {
     "name": "stderr",
     "output_type": "stream",
     "text": [
      "/opt/miniconda3/envs/carla/lib/python3.13/site-packages/sklearn/metrics/_ranking.py:1033: UserWarning: No positive class found in y_true, recall is set to one for all thresholds.\n",
      "  warnings.warn(\n"
     ]
    },
    {
     "name": "stdout",
     "output_type": "stream",
     "text": [
      "Epoch: [34][ 0/18]\tTotal Loss -2.3868e+00 (-2.3868e+00)\tConsistency Loss 1.7425e+00 (1.7425e+00)\tInconsistency Loss 1.9297e-01 (1.9297e-01)\tEntropy 2.0647e+00 (2.0647e+00)\n",
      "\u001b[34m-- Epoch 35/50\u001b[0m\n"
     ]
    },
    {
     "name": "stderr",
     "output_type": "stream",
     "text": [
      "/opt/miniconda3/envs/carla/lib/python3.13/site-packages/sklearn/metrics/_ranking.py:1033: UserWarning: No positive class found in y_true, recall is set to one for all thresholds.\n",
      "  warnings.warn(\n"
     ]
    },
    {
     "name": "stdout",
     "output_type": "stream",
     "text": [
      "Epoch: [35][ 0/18]\tTotal Loss -2.3870e+00 (-2.3870e+00)\tConsistency Loss 1.7443e+00 (1.7443e+00)\tInconsistency Loss 1.9232e-01 (1.9232e-01)\tEntropy 2.0656e+00 (2.0656e+00)\n",
      "\u001b[34m-- Epoch 36/50\u001b[0m\n"
     ]
    },
    {
     "name": "stderr",
     "output_type": "stream",
     "text": [
      "/opt/miniconda3/envs/carla/lib/python3.13/site-packages/sklearn/metrics/_ranking.py:1033: UserWarning: No positive class found in y_true, recall is set to one for all thresholds.\n",
      "  warnings.warn(\n"
     ]
    },
    {
     "name": "stdout",
     "output_type": "stream",
     "text": [
      "Epoch: [36][ 0/18]\tTotal Loss -2.3748e+00 (-2.3748e+00)\tConsistency Loss 1.7383e+00 (1.7383e+00)\tInconsistency Loss 1.9416e-01 (1.9416e-01)\tEntropy 2.0566e+00 (2.0566e+00)\n",
      "\u001b[34m-- Epoch 37/50\u001b[0m\n"
     ]
    },
    {
     "name": "stderr",
     "output_type": "stream",
     "text": [
      "/opt/miniconda3/envs/carla/lib/python3.13/site-packages/sklearn/metrics/_ranking.py:1033: UserWarning: No positive class found in y_true, recall is set to one for all thresholds.\n",
      "  warnings.warn(\n"
     ]
    },
    {
     "name": "stdout",
     "output_type": "stream",
     "text": [
      "Epoch: [37][ 0/18]\tTotal Loss -2.3785e+00 (-2.3785e+00)\tConsistency Loss 1.7128e+00 (1.7128e+00)\tInconsistency Loss 1.9871e-01 (1.9871e-01)\tEntropy 2.0456e+00 (2.0456e+00)\n",
      "\u001b[34m-- Epoch 38/50\u001b[0m\n"
     ]
    },
    {
     "name": "stderr",
     "output_type": "stream",
     "text": [
      "/opt/miniconda3/envs/carla/lib/python3.13/site-packages/sklearn/metrics/_ranking.py:1033: UserWarning: No positive class found in y_true, recall is set to one for all thresholds.\n",
      "  warnings.warn(\n"
     ]
    },
    {
     "name": "stdout",
     "output_type": "stream",
     "text": [
      "Epoch: [38][ 0/18]\tTotal Loss -2.3749e+00 (-2.3749e+00)\tConsistency Loss 1.7134e+00 (1.7134e+00)\tInconsistency Loss 1.9902e-01 (1.9902e-01)\tEntropy 2.0442e+00 (2.0442e+00)\n",
      "\u001b[34m-- Epoch 39/50\u001b[0m\n"
     ]
    },
    {
     "name": "stderr",
     "output_type": "stream",
     "text": [
      "/opt/miniconda3/envs/carla/lib/python3.13/site-packages/sklearn/metrics/_ranking.py:1033: UserWarning: No positive class found in y_true, recall is set to one for all thresholds.\n",
      "  warnings.warn(\n"
     ]
    },
    {
     "name": "stdout",
     "output_type": "stream",
     "text": [
      "Epoch: [39][ 0/18]\tTotal Loss -2.3773e+00 (-2.3773e+00)\tConsistency Loss 1.7135e+00 (1.7135e+00)\tInconsistency Loss 1.9909e-01 (1.9909e-01)\tEntropy 2.0454e+00 (2.0454e+00)\n",
      "\u001b[34m-- Epoch 40/50\u001b[0m\n"
     ]
    },
    {
     "name": "stderr",
     "output_type": "stream",
     "text": [
      "/opt/miniconda3/envs/carla/lib/python3.13/site-packages/sklearn/metrics/_ranking.py:1033: UserWarning: No positive class found in y_true, recall is set to one for all thresholds.\n",
      "  warnings.warn(\n"
     ]
    },
    {
     "name": "stdout",
     "output_type": "stream",
     "text": [
      "Epoch: [40][ 0/18]\tTotal Loss -2.3770e+00 (-2.3770e+00)\tConsistency Loss 1.7146e+00 (1.7146e+00)\tInconsistency Loss 1.9811e-01 (1.9811e-01)\tEntropy 2.0458e+00 (2.0458e+00)\n",
      "\u001b[34m-- Epoch 41/50\u001b[0m\n"
     ]
    },
    {
     "name": "stderr",
     "output_type": "stream",
     "text": [
      "/opt/miniconda3/envs/carla/lib/python3.13/site-packages/sklearn/metrics/_ranking.py:1033: UserWarning: No positive class found in y_true, recall is set to one for all thresholds.\n",
      "  warnings.warn(\n"
     ]
    },
    {
     "name": "stdout",
     "output_type": "stream",
     "text": [
      "Epoch: [41][ 0/18]\tTotal Loss -2.3776e+00 (-2.3776e+00)\tConsistency Loss 1.7151e+00 (1.7151e+00)\tInconsistency Loss 1.9815e-01 (1.9815e-01)\tEntropy 2.0463e+00 (2.0463e+00)\n",
      "\u001b[34m-- Epoch 42/50\u001b[0m\n"
     ]
    },
    {
     "name": "stderr",
     "output_type": "stream",
     "text": [
      "/opt/miniconda3/envs/carla/lib/python3.13/site-packages/sklearn/metrics/_ranking.py:1033: UserWarning: No positive class found in y_true, recall is set to one for all thresholds.\n",
      "  warnings.warn(\n"
     ]
    },
    {
     "name": "stdout",
     "output_type": "stream",
     "text": [
      "Epoch: [42][ 0/18]\tTotal Loss -2.3787e+00 (-2.3787e+00)\tConsistency Loss 1.7173e+00 (1.7173e+00)\tInconsistency Loss 1.9728e-01 (1.9728e-01)\tEntropy 2.0480e+00 (2.0480e+00)\n",
      "\u001b[34m-- Epoch 43/50\u001b[0m\n"
     ]
    },
    {
     "name": "stderr",
     "output_type": "stream",
     "text": [
      "/opt/miniconda3/envs/carla/lib/python3.13/site-packages/sklearn/metrics/_ranking.py:1033: UserWarning: No positive class found in y_true, recall is set to one for all thresholds.\n",
      "  warnings.warn(\n"
     ]
    },
    {
     "name": "stdout",
     "output_type": "stream",
     "text": [
      "Epoch: [43][ 0/18]\tTotal Loss -2.3765e+00 (-2.3765e+00)\tConsistency Loss 1.7162e+00 (1.7162e+00)\tInconsistency Loss 1.9803e-01 (1.9803e-01)\tEntropy 2.0463e+00 (2.0463e+00)\n",
      "\u001b[34m-- Epoch 44/50\u001b[0m\n"
     ]
    },
    {
     "name": "stderr",
     "output_type": "stream",
     "text": [
      "/opt/miniconda3/envs/carla/lib/python3.13/site-packages/sklearn/metrics/_ranking.py:1033: UserWarning: No positive class found in y_true, recall is set to one for all thresholds.\n",
      "  warnings.warn(\n"
     ]
    },
    {
     "name": "stdout",
     "output_type": "stream",
     "text": [
      "Epoch: [44][ 0/18]\tTotal Loss -2.3770e+00 (-2.3770e+00)\tConsistency Loss 1.7155e+00 (1.7155e+00)\tInconsistency Loss 1.9826e-01 (1.9826e-01)\tEntropy 2.0462e+00 (2.0462e+00)\n",
      "\u001b[34m-- Epoch 45/50\u001b[0m\n"
     ]
    },
    {
     "name": "stderr",
     "output_type": "stream",
     "text": [
      "/opt/miniconda3/envs/carla/lib/python3.13/site-packages/sklearn/metrics/_ranking.py:1033: UserWarning: No positive class found in y_true, recall is set to one for all thresholds.\n",
      "  warnings.warn(\n"
     ]
    },
    {
     "name": "stdout",
     "output_type": "stream",
     "text": [
      "Epoch: [45][ 0/18]\tTotal Loss -2.3786e+00 (-2.3786e+00)\tConsistency Loss 1.7169e+00 (1.7169e+00)\tInconsistency Loss 1.9784e-01 (1.9784e-01)\tEntropy 2.0478e+00 (2.0478e+00)\n",
      "\u001b[34m-- Epoch 46/50\u001b[0m\n"
     ]
    },
    {
     "name": "stderr",
     "output_type": "stream",
     "text": [
      "/opt/miniconda3/envs/carla/lib/python3.13/site-packages/sklearn/metrics/_ranking.py:1033: UserWarning: No positive class found in y_true, recall is set to one for all thresholds.\n",
      "  warnings.warn(\n"
     ]
    },
    {
     "name": "stdout",
     "output_type": "stream",
     "text": [
      "Epoch: [46][ 0/18]\tTotal Loss -2.3775e+00 (-2.3775e+00)\tConsistency Loss 1.7164e+00 (1.7164e+00)\tInconsistency Loss 1.9804e-01 (1.9804e-01)\tEntropy 2.0470e+00 (2.0470e+00)\n",
      "\u001b[34m-- Epoch 47/50\u001b[0m\n"
     ]
    },
    {
     "name": "stderr",
     "output_type": "stream",
     "text": [
      "/opt/miniconda3/envs/carla/lib/python3.13/site-packages/sklearn/metrics/_ranking.py:1033: UserWarning: No positive class found in y_true, recall is set to one for all thresholds.\n",
      "  warnings.warn(\n"
     ]
    },
    {
     "name": "stdout",
     "output_type": "stream",
     "text": [
      "Epoch: [47][ 0/18]\tTotal Loss -2.3770e+00 (-2.3770e+00)\tConsistency Loss 1.7180e+00 (1.7180e+00)\tInconsistency Loss 1.9804e-01 (1.9804e-01)\tEntropy 2.0475e+00 (2.0475e+00)\n",
      "\u001b[34m-- Epoch 48/50\u001b[0m\n"
     ]
    },
    {
     "name": "stderr",
     "output_type": "stream",
     "text": [
      "/opt/miniconda3/envs/carla/lib/python3.13/site-packages/sklearn/metrics/_ranking.py:1033: UserWarning: No positive class found in y_true, recall is set to one for all thresholds.\n",
      "  warnings.warn(\n"
     ]
    },
    {
     "name": "stdout",
     "output_type": "stream",
     "text": [
      "Epoch: [48][ 0/18]\tTotal Loss -2.3767e+00 (-2.3767e+00)\tConsistency Loss 1.7164e+00 (1.7164e+00)\tInconsistency Loss 1.9810e-01 (1.9810e-01)\tEntropy 2.0466e+00 (2.0466e+00)\n",
      "\u001b[34m-- Epoch 49/50\u001b[0m\n"
     ]
    },
    {
     "name": "stderr",
     "output_type": "stream",
     "text": [
      "/opt/miniconda3/envs/carla/lib/python3.13/site-packages/sklearn/metrics/_ranking.py:1033: UserWarning: No positive class found in y_true, recall is set to one for all thresholds.\n",
      "  warnings.warn(\n"
     ]
    },
    {
     "name": "stdout",
     "output_type": "stream",
     "text": [
      "Epoch: [49][ 0/18]\tTotal Loss -2.3779e+00 (-2.3779e+00)\tConsistency Loss 1.7163e+00 (1.7163e+00)\tInconsistency Loss 1.9797e-01 (1.9797e-01)\tEntropy 2.0471e+00 (2.0471e+00)\n",
      "\u001b[34m-- Epoch 50/50\u001b[0m\n"
     ]
    },
    {
     "name": "stderr",
     "output_type": "stream",
     "text": [
      "/opt/miniconda3/envs/carla/lib/python3.13/site-packages/sklearn/metrics/_ranking.py:1033: UserWarning: No positive class found in y_true, recall is set to one for all thresholds.\n",
      "  warnings.warn(\n"
     ]
    },
    {
     "name": "stdout",
     "output_type": "stream",
     "text": [
      "Epoch: [50][ 0/18]\tTotal Loss -2.3767e+00 (-2.3767e+00)\tConsistency Loss 1.7188e+00 (1.7188e+00)\tInconsistency Loss 1.9778e-01 (1.9778e-01)\tEntropy 2.0477e+00 (2.0477e+00)\n"
     ]
    },
    {
     "name": "stderr",
     "output_type": "stream",
     "text": [
      "/opt/miniconda3/envs/carla/lib/python3.13/site-packages/sklearn/metrics/_ranking.py:1033: UserWarning: No positive class found in y_true, recall is set to one for all thresholds.\n",
      "  warnings.warn(\n"
     ]
    }
   ],
   "source": [
    "lim = 2\n",
    "data_info = os.listdir('datasets/yahoo/')\n",
    "for file_name in data_info:\n",
    "    lim-=1\n",
    "    if lim == 0:\n",
    "        break\n",
    "    if file_name.endswith('.json'):\n",
    "        continue\n",
    "    print(file_name)\n",
    "    %run -i 'carla_pretext.py' --config_env configs/env.yml --config_exp configs/pretext/carla_pretext_yahoo.yml --fname $file_name\n",
    "    %run -i 'carla_classification.py' --config_env configs/env.yml --config_exp configs/classification/carla_classification_yahoo.yml --fname $file_name"
   ]
  },
  {
   "cell_type": "code",
   "execution_count": null,
   "id": "a587f335",
   "metadata": {
    "scrolled": true
   },
   "outputs": [],
   "source": [
    "def adjust_predicts(label, predict=None, calc_latency=False):\n",
    "    \n",
    "    label = np.asarray(label)\n",
    "    latency = 0\n",
    "    \n",
    "    actual = label > 0.1\n",
    "    anomaly_state = False\n",
    "    anomaly_count = 0\n",
    "    for i in range(len(actual)):\n",
    "        if actual[i] and predict[i] and not anomaly_state:\n",
    "                anomaly_state = True\n",
    "                anomaly_count += 1\n",
    "                for j in range(i, 0, -1):\n",
    "                    if not actual[j]:\n",
    "                        break\n",
    "                    else:\n",
    "                        if not predict[j]:\n",
    "                            predict[j] = True\n",
    "                            latency += 1\n",
    "        elif not actual[i]:\n",
    "            anomaly_state = False\n",
    "        if anomaly_state:\n",
    "            predict[i] = True\n",
    "        \n",
    "    MCM = metrics.multilabel_confusion_matrix(actual, predict, labels = [1, 0])\n",
    "\n",
    "    pa_tn = MCM[0][0, 0]\n",
    "    pa_tp = MCM[0][1, 1]\n",
    "    pa_fp = MCM[0][0, 1]\n",
    "    pa_fn = MCM[0][1, 0]\n",
    "        \n",
    "    prec = pa_tp / (pa_tp + pa_fp)\n",
    "    rec = pa_tp / (pa_tp + pa_fn)\n",
    "    f1_score = 2 * (prec * rec) / (prec + rec)\n",
    "    if calc_latency:\n",
    "        return predict, latency / (anomaly_count + 1e-4), pa_tp, pa_tn, pa_fp, pa_fn, prec , rec, f1_score\n",
    "    else:\n",
    "        return predict, prec, rec, f1_score, pa_tp, pa_tn, pa_fp, pa_fn,"
   ]
  },
  {
   "cell_type": "code",
   "execution_count": null,
   "id": "4460860e",
   "metadata": {},
   "outputs": [],
   "source": [
    "def add_summary_statistics(res_df):\n",
    "    # Compute the sum of 'best_tp', 'best_tn', 'best_fp', 'best_fn'\n",
    "    sum_best_tp = res_df['best_tp'].sum()\n",
    "    sum_best_tn = res_df['best_tn'].sum()\n",
    "    sum_best_fp = res_df['best_fp'].sum()\n",
    "    sum_best_fn = res_df['best_fn'].sum()\n",
    "\n",
    "    # Calculate precision, recall and f1 score\n",
    "    precision = sum_best_tp / (sum_best_tp + sum_best_fp) if (sum_best_tp + sum_best_fp) > 0 else 0\n",
    "    recall = sum_best_tp / (sum_best_tp + sum_best_fn) if (sum_best_tp + sum_best_fn) > 0 else 0\n",
    "    f1_score = 2 * (precision * recall) / (precision + recall) if (precision + recall) > 0 else 0\n",
    "\n",
    "    # Calculate the average and std of 'roc' and 'pr'\n",
    "    roc_avg = res_df['roc'].mean()\n",
    "    roc_std = res_df['roc'].std()\n",
    "    pr_avg = res_df['pr'].mean()\n",
    "    pr_std = res_df['pr'].std()\n",
    "\n",
    "    # Append the results to the dataframe\n",
    "    summary_row = pd.Series({\n",
    "        'best_tp': sum_best_tp,\n",
    "        'best_tn': sum_best_tn,\n",
    "        'best_fp': sum_best_fp,\n",
    "        'best_fn': sum_best_fn,\n",
    "        'best_pre': precision,\n",
    "        'best_rec': recall,\n",
    "        'b_f_1': f1_score,\n",
    "        'roc': roc_avg,\n",
    "        'pr': pr_avg\n",
    "    })\n",
    "\n",
    "    std_row = pd.Series({\n",
    "        'roc': roc_std,\n",
    "        'pr': pr_std\n",
    "    })\n",
    "\n",
    "    # Append the rows to the dataframe\n",
    "    res_df = res_df._append(summary_row, ignore_index=True)\n",
    "    res_df = res_df._append(std_row, ignore_index=True)\n",
    "    \n",
    "    return res_df"
   ]
  },
  {
   "cell_type": "code",
   "execution_count": null,
   "id": "af5cb8af",
   "metadata": {},
   "outputs": [],
   "source": [
    "def add_summary_statistics_pa(res_df):\n",
    "    # Compute the sum of 'best_tp', 'best_tn', 'best_fp', 'best_fn'\n",
    "    sum_pa_tp = res_df['pa_tp'].sum()\n",
    "    sum_pa_tn = res_df['pa_tn'].sum()\n",
    "    sum_pa_fp = res_df['pa_fp'].sum()\n",
    "    sum_pa_fn = res_df['pa_fn'].sum()\n",
    "\n",
    "    # Calculate precision, recall and f1 score\n",
    "    precision = sum_pa_tp / (sum_pa_tp + sum_pa_fp) if (sum_pa_tp + sum_pa_fp) > 0 else 0\n",
    "    recall = sum_pa_tp / (sum_pa_tp + sum_pa_fn) if (sum_pa_tp + sum_pa_fn) > 0 else 0\n",
    "    f1_score = 2 * (precision * recall) / (precision + recall) if (precision + recall) > 0 else 0\n",
    "\n",
    "\n",
    "    # Append the results to the dataframe\n",
    "    summary_row = pd.Series({\n",
    "        'pa_tp': sum_pa_tp,\n",
    "        'pa_tn': sum_pa_tn,\n",
    "        'pa_fp': sum_pa_fp,\n",
    "        'pa_fn': sum_pa_fn,\n",
    "        'pa_pre': precision,\n",
    "        'pa_rec': recall,\n",
    "        'pa_f1': f1_score,\n",
    "    })\n",
    "\n",
    "\n",
    "    # Append the row to the dataframe\n",
    "    res_df = res_df._append(summary_row, ignore_index=True)\n",
    "    \n",
    "    return res_df"
   ]
  },
  {
   "cell_type": "code",
   "execution_count": null,
   "id": "9bc18dd8",
   "metadata": {
    "scrolled": true
   },
   "outputs": [
    {
     "name": "stdout",
     "output_type": "stream",
     "text": [
      "M-6\n",
      "AU-ROC :  0.9764238386285629\n",
      "AU-PR :  0.9599489857461927\n",
      "Best f1 :  0.9660574412532638 best_thr 0.6304794251918793\n"
     ]
    },
    {
     "name": "stderr",
     "output_type": "stream",
     "text": [
      "/var/folders/wg/z_g2glys5d53qmmqfyz0clj40000gn/T/ipykernel_25927/2964211233.py:89: FutureWarning: The behavior of DataFrame concatenation with empty or all-NA entries is deprecated. In a future version, this will no longer exclude empty or all-NA columns when determining the result dtypes. To retain the old behavior, exclude the relevant entries before the concat operation.\n",
      "  res_df = res_df._append(new_row, ignore_index=True)\n"
     ]
    }
   ],
   "source": [
    "res_df = pd.DataFrame(columns=['name', 'tp', 'tn', 'fp', 'fn', 'roc', 'pr', \n",
    "                               'best_tp', 'best_tn', 'best_fp', 'best_fn', 'best_pre', 'best_rec', 'b_f_1']) \n",
    "\n",
    "pa_df = pd.DataFrame(columns=['name', 'pa_tp', 'pa_tn', 'pa_fp', 'pa_fn', 'pa_pre', 'pa_rec', 'pa_f1', 'latency'])\n",
    "\n",
    "\n",
    "with open('datasets/MSL_SMAP/labeled_anomalies.csv', 'r') as file:\n",
    "    csv_reader = pd.read_csv(file, delimiter=',')\n",
    "\n",
    "data_info = csv_reader[csv_reader['spacecraft'] == 'MSL']\n",
    "\n",
    "\n",
    "# data_info = os.listdir('../datasets/KPI/train/')\n",
    "\n",
    "# data_info = os.listdir(os.path.join('datasets', 'UCR'))  \n",
    "# data_info = sorted(data_info)\n",
    "\n",
    "# data_info = os.listdir('../../datasets/SMD/train/')\n",
    "# files = [file for file in data_info if file.startswith('machine-')]\n",
    "# files = sorted(files)\n",
    "lim = 3\n",
    "ds_name = 'MSL'\n",
    "for filename in data_info['chan_id']: #['GECCO']: #data_info['chan_id']: #files: #['M-6']: #data_info['chan_id']:\n",
    "    if filename!='.json': # and 'real_' in filename:\n",
    "        lim-=1\n",
    "        if lim == 0:\n",
    "            break\n",
    "        print(filename)\n",
    "        df_train = pd.read_csv(f\"results/{ds_name}/\" + filename + \"/classification/classification_trainprobs.csv\")\n",
    "        df_test = pd.read_csv(f\"results/{ds_name}/\" + filename + \"/classification/classification_testprobs.csv\")\n",
    "        cl_num = df_train.shape[1] - 1\n",
    "\n",
    "        df_train['Class'] = np.where((df_train['Class'] == 0), 0, 1)\n",
    "        df_train['pred']=df_train[df_train.columns[0:cl_num]].idxmax(axis=1)\n",
    "\n",
    "        score_col = df_train['pred'].value_counts().idxmax()\n",
    "        \n",
    "        df_test['Class'] = np.where((df_test['Class'] == 0), 0, 1)\n",
    "        df_test['pred'] = df_test[df_test.columns[0:cl_num]].idxmax(axis=1)\n",
    "        \n",
    "#         score_col = df_test['pred'].value_counts().idxmax()\n",
    "        \n",
    "        roc_auc, pr_auc, best_tn, best_tp, best_fp, best_fn, best_pre, best_rec, best_f1 = 0, 0, 0, 0, 0, 0, 0, 0, 0\n",
    "        try:\n",
    "\n",
    "            df_test['pred'] = np.where((df_test['pred'] == score_col), 0, 1)\n",
    "\n",
    "            MCM = metrics.multilabel_confusion_matrix(df_test['Class'], df_test['pred'], labels = [1, 0])\n",
    "            tn = MCM[0][0, 0]\n",
    "            tp = MCM[0][1, 1]\n",
    "            fp = MCM[0][0, 1]\n",
    "            fn = MCM[0][1, 0]\n",
    "\n",
    "            pre=tp/(tp+fp)\n",
    "            recall = tp/(tp+fn)\n",
    "            f_1 = 2*pre*recall/(pre+recall)\n",
    "\n",
    "            scores = 1-df_test[score_col]\n",
    "            # Calculate AU-ROC\n",
    "            roc_auc = roc_auc_score(df_test['Class'], scores)\n",
    "            print('AU-ROC : ', roc_auc)\n",
    "\n",
    "            # Calculate AU-PR\n",
    "            pr_auc = average_precision_score(df_test['Class'], scores)\n",
    "            print('AU-PR : ', pr_auc)\n",
    "\n",
    "            fpr, tpr, thresholds = roc_curve(df_test['Class'], scores, pos_label=1)\n",
    "            precision, recall, thresholds = precision_recall_curve(df_test['Class'], scores, pos_label=1)\n",
    "\n",
    "\n",
    "            res = pd.DataFrame()\n",
    "            res['pre'] = precision\n",
    "            res['rec'] = recall\n",
    "            res['f1'] = 2*res['pre']*res['rec'] / (res['pre']+res['rec'])\n",
    "            best_idx = res['f1'].argmax()\n",
    "            best_f1 = res['f1'][best_idx]\n",
    "            best_pre = res['pre'][best_idx]\n",
    "            best_rec = res['rec'][best_idx]\n",
    "            best_thr = thresholds[best_idx]\n",
    "            print('Best f1 : ', best_f1, 'best_thr', best_thr)\n",
    "            anomalies = [True if s >= best_thr else False for s in scores]\n",
    "\n",
    "            best_tn, best_fp, best_fn, best_tp = confusion_matrix(df_test['Class'], anomalies).ravel()\n",
    "        except ValueError:\n",
    "            pass\n",
    "\n",
    "        new_row = pd.Series([filename, tp, tn, fp, fn, roc_auc, pr_auc, best_tp, best_tn, best_fp, best_fn, best_pre, best_rec, best_f1],\n",
    "                                index=['name', 'tp', 'tn', 'fp', 'fn', 'roc', 'pr', 'best_tp', 'best_tn', 'best_fp', 'best_fn', 'best_pre', 'best_rec', 'b_f_1'])\n",
    "        res_df = res_df._append(new_row, ignore_index=True)\n",
    "        \n",
    "        \n",
    "        # pa_f1 = -1\n",
    "        # for thr in thresholds:\n",
    "        #     preds_pa = [True if s >= thr else False for s in scores]\n",
    "        #     pa_prediction, t_latency, t_tp, t_tn, t_fp, t_fn, t_pre, t_rec, t_f1 = adjust_predicts(df_test['Class'], preds_pa, True)\n",
    "        #     if t_f1 > pa_f1:\n",
    "        #         latency, pa_tp, pa_tn, pa_fp, pa_fn, pa_pre, pa_rec, pa_f1 = t_latency, t_tp, t_tn, t_fp, t_fn, t_pre, t_rec, t_f1\n",
    "                \n",
    "        # new_row1 = pd.Series([filename, pa_tp, pa_tn, pa_fp, pa_fn, pa_pre, pa_rec, pa_f1, latency],\n",
    "        #                         index=['name', 'pa_tp', 'pa_tn', 'pa_fp', 'pa_fn', 'pa_pre', 'pa_rec', 'pa_f1', 'latency'])   \n",
    "        # pa_df = pa_df._append(new_row1, ignore_index=True)\n",
    "        \n",
    "    \n",
    "res_df = add_summary_statistics(res_df)\n",
    "res_df.to_csv(f'{ds_name}_results_woincon.csv')\n",
    "\n",
    "# pa_df = add_summary_statistics_pa(pa_df)\n",
    "# pa_df.to_csv('smd_5_results_pa.csv')"
   ]
  },
  {
   "cell_type": "code",
   "execution_count": null,
   "id": "496b943e",
   "metadata": {},
   "outputs": [],
   "source": [
    "# GECCO\n",
    "# AU-ROC :  0.5\n",
    "# AU-PR :  0.032625189681335355\n",
    "# Best f1 :  0.06318883174136664 best_thr 0.6457074880599976"
   ]
  }
 ],
 "metadata": {
  "kernelspec": {
   "display_name": "carla",
   "language": "python",
   "name": "python3"
  },
  "language_info": {
   "codemirror_mode": {
    "name": "ipython",
    "version": 3
   },
   "file_extension": ".py",
   "mimetype": "text/x-python",
   "name": "python",
   "nbconvert_exporter": "python",
   "pygments_lexer": "ipython3",
   "version": "3.13.2"
  }
 },
 "nbformat": 4,
 "nbformat_minor": 5
}
